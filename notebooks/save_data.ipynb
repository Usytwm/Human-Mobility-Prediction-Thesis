{
 "cells": [
  {
   "cell_type": "code",
   "execution_count": 1,
   "metadata": {},
   "outputs": [],
   "source": [
    "import os\n",
    "import sys\n",
    "\n",
    "parent_dir = os.path.abspath(os.path.join(os.getcwd(), \"..\"))\n",
    "sys.path.append(parent_dir)"
   ]
  },
  {
   "cell_type": "code",
   "execution_count": 2,
   "metadata": {},
   "outputs": [],
   "source": [
    "from utils.mobility_data_manager import DataManager\n",
    "\n",
    "csv_file = \"../Data/cityA_groundtruthdata.csv/cityA_groundtruthdata.csv\"\n",
    "manager = DataManager(\n",
    "    csv_path=csv_file,\n",
    ")\n",
    "df = manager.load_csv()"
   ]
  },
  {
   "cell_type": "code",
   "execution_count": 9,
   "metadata": {},
   "outputs": [],
   "source": [
    "import pandas as pd\n",
    "\n",
    "# Ordenar el DataFrame por uid en orden ascendente\n",
    "df_sorted = df.sort_values(by=\"uid\", ascending=True)\n",
    "\n",
    "# Obtener los datos de los primeros 3000 usuarios\n",
    "users = df_sorted[\"uid\"].unique()[:3000]\n",
    "df_users = df_sorted[df_sorted[\"uid\"].isin(users)]"
   ]
  },
  {
   "cell_type": "code",
   "execution_count": 10,
   "metadata": {},
   "outputs": [
    {
     "name": "stdout",
     "output_type": "stream",
     "text": [
      "Dimensiones del DataFrame: (3642173, 5)\n",
      "\n",
      "Información del DataFrame:\n",
      "<class 'pandas.core.frame.DataFrame'>\n",
      "Index: 3642173 entries, 9 to 3640287\n",
      "Data columns (total 5 columns):\n",
      " #   Column  Dtype\n",
      "---  ------  -----\n",
      " 0   uid     int64\n",
      " 1   d       int64\n",
      " 2   t       int64\n",
      " 3   x       int64\n",
      " 4   y       int64\n",
      "dtypes: int64(5)\n",
      "memory usage: 166.7 MB\n"
     ]
    },
    {
     "data": {
      "text/plain": [
       "None"
      ]
     },
     "metadata": {},
     "output_type": "display_data"
    },
    {
     "name": "stdout",
     "output_type": "stream",
     "text": [
      "\n",
      "Resumen estadístico:\n"
     ]
    },
    {
     "data": {
      "text/html": [
       "<div>\n",
       "<style scoped>\n",
       "    .dataframe tbody tr th:only-of-type {\n",
       "        vertical-align: middle;\n",
       "    }\n",
       "\n",
       "    .dataframe tbody tr th {\n",
       "        vertical-align: top;\n",
       "    }\n",
       "\n",
       "    .dataframe thead th {\n",
       "        text-align: right;\n",
       "    }\n",
       "</style>\n",
       "<table border=\"1\" class=\"dataframe\">\n",
       "  <thead>\n",
       "    <tr style=\"text-align: right;\">\n",
       "      <th></th>\n",
       "      <th>uid</th>\n",
       "      <th>d</th>\n",
       "      <th>t</th>\n",
       "      <th>x</th>\n",
       "      <th>y</th>\n",
       "    </tr>\n",
       "  </thead>\n",
       "  <tbody>\n",
       "    <tr>\n",
       "      <th>count</th>\n",
       "      <td>3.642173e+06</td>\n",
       "      <td>3.642173e+06</td>\n",
       "      <td>3.642173e+06</td>\n",
       "      <td>3.642173e+06</td>\n",
       "      <td>3.642173e+06</td>\n",
       "    </tr>\n",
       "    <tr>\n",
       "      <th>mean</th>\n",
       "      <td>1.493830e+03</td>\n",
       "      <td>3.746488e+01</td>\n",
       "      <td>2.573454e+01</td>\n",
       "      <td>1.228730e+02</td>\n",
       "      <td>8.511531e+01</td>\n",
       "    </tr>\n",
       "    <tr>\n",
       "      <th>std</th>\n",
       "      <td>8.666647e+02</td>\n",
       "      <td>2.168419e+01</td>\n",
       "      <td>1.142356e+01</td>\n",
       "      <td>4.246668e+01</td>\n",
       "      <td>4.273534e+01</td>\n",
       "    </tr>\n",
       "    <tr>\n",
       "      <th>min</th>\n",
       "      <td>0.000000e+00</td>\n",
       "      <td>0.000000e+00</td>\n",
       "      <td>0.000000e+00</td>\n",
       "      <td>1.000000e+00</td>\n",
       "      <td>1.000000e+00</td>\n",
       "    </tr>\n",
       "    <tr>\n",
       "      <th>25%</th>\n",
       "      <td>7.450000e+02</td>\n",
       "      <td>1.900000e+01</td>\n",
       "      <td>1.700000e+01</td>\n",
       "      <td>9.400000e+01</td>\n",
       "      <td>5.700000e+01</td>\n",
       "    </tr>\n",
       "    <tr>\n",
       "      <th>50%</th>\n",
       "      <td>1.503000e+03</td>\n",
       "      <td>3.800000e+01</td>\n",
       "      <td>2.600000e+01</td>\n",
       "      <td>1.260000e+02</td>\n",
       "      <td>8.300000e+01</td>\n",
       "    </tr>\n",
       "    <tr>\n",
       "      <th>75%</th>\n",
       "      <td>2.246000e+03</td>\n",
       "      <td>5.700000e+01</td>\n",
       "      <td>3.500000e+01</td>\n",
       "      <td>1.560000e+02</td>\n",
       "      <td>1.110000e+02</td>\n",
       "    </tr>\n",
       "    <tr>\n",
       "      <th>max</th>\n",
       "      <td>2.999000e+03</td>\n",
       "      <td>7.400000e+01</td>\n",
       "      <td>4.700000e+01</td>\n",
       "      <td>2.000000e+02</td>\n",
       "      <td>2.000000e+02</td>\n",
       "    </tr>\n",
       "  </tbody>\n",
       "</table>\n",
       "</div>"
      ],
      "text/plain": [
       "                uid             d             t             x             y\n",
       "count  3.642173e+06  3.642173e+06  3.642173e+06  3.642173e+06  3.642173e+06\n",
       "mean   1.493830e+03  3.746488e+01  2.573454e+01  1.228730e+02  8.511531e+01\n",
       "std    8.666647e+02  2.168419e+01  1.142356e+01  4.246668e+01  4.273534e+01\n",
       "min    0.000000e+00  0.000000e+00  0.000000e+00  1.000000e+00  1.000000e+00\n",
       "25%    7.450000e+02  1.900000e+01  1.700000e+01  9.400000e+01  5.700000e+01\n",
       "50%    1.503000e+03  3.800000e+01  2.600000e+01  1.260000e+02  8.300000e+01\n",
       "75%    2.246000e+03  5.700000e+01  3.500000e+01  1.560000e+02  1.110000e+02\n",
       "max    2.999000e+03  7.400000e+01  4.700000e+01  2.000000e+02  2.000000e+02"
      ]
     },
     "metadata": {},
     "output_type": "display_data"
    }
   ],
   "source": [
    "# Ver las dimensiones del DataFrame (filas y columnas)\n",
    "print(f\"Dimensiones del DataFrame: {df_users.shape}\")\n",
    "\n",
    "# Ver los nombres de las columnas y sus tipos de datos\n",
    "print(\"\\nInformación del DataFrame:\")\n",
    "display(df_users.info())  # display() para mejor presentación en notebooks\n",
    "\n",
    "# # Mostrar las primeras filas del DataFrame\n",
    "# print(\"\\nPrimeras filas del DataFrame:\")\n",
    "\n",
    "# # Resumen estadístico de los datos numéricos\n",
    "print(\"\\nResumen estadístico:\")\n",
    "display(df_users.describe())"
   ]
  },
  {
   "cell_type": "code",
   "execution_count": 11,
   "metadata": {},
   "outputs": [],
   "source": [
    "# Guardar en un nuevo DataFrame o exportarlo a un archivo\n",
    "df_users.to_csv(\"../Data/cityA_groundtruthdata.csv/cityA_groundtruthdata_first_3000_users.csv\", index=False)"
   ]
  },
  {
   "cell_type": "code",
   "execution_count": 6,
   "metadata": {},
   "outputs": [
    {
     "name": "stdout",
     "output_type": "stream",
     "text": [
      "geobleu: 6.503258794048911e-05\n",
      "dtw: 134.02583215169085\n"
     ]
    }
   ],
   "source": [
    "import geobleu\n",
    "import numpy as np\n",
    "\n",
    "import numpy as np\n",
    "\n",
    "generated = [\n",
    "    (60, 2, 126, 89),\n",
    "    (60, 4, 126, 89),\n",
    "    (60, 12, 126, 92),\n",
    "    (60, 13, 125, 93),\n",
    "    (60, 14, 125, 92),\n",
    "    (60, 15, 125, 91),\n",
    "    (60, 16, 126, 91),\n",
    "    (60, 18, 126, 91),\n",
    "    (60, 19, 126, 91),\n",
    "    (60, 21, 124, 92),\n",
    "    (60, 23, 125, 91),\n",
    "    (60, 31, 125, 91),\n",
    "    (60, 32, 124, 91),\n",
    "    (60, 33, 125, 91),\n",
    "    (60, 34, 124, 90),\n",
    "    (60, 41, 126, 93),\n",
    "    (60, 42, 126, 92),\n",
    "    (60, 47, 125, 91),\n",
    "]\n",
    "reference = [\n",
    "    (60, 2, 123, 71),\n",
    "    (60, 4, 123, 71),\n",
    "    (60, 12, 123, 74),\n",
    "    (60, 13, 124, 85),\n",
    "    (60, 14, 126, 100),\n",
    "    (60, 15, 123, 106),\n",
    "    (60, 16, 121, 106),\n",
    "    (60, 18, 119, 109),\n",
    "    (60, 19, 119, 110),\n",
    "    (60, 21, 119, 109),\n",
    "    (60, 23, 119, 109),\n",
    "    (60, 31, 120, 108),\n",
    "    (60, 32, 124, 105),\n",
    "    (60, 33, 119, 77),\n",
    "    (60, 34, 123, 71),\n",
    "    (60, 41, 123, 71),\n",
    "    (60, 42, 123, 71),\n",
    "    (60, 47, 123, 71),\n",
    "]\n",
    "\n",
    "geobleu_val = geobleu.calc_geobleu(generated, reference, processes=3)\n",
    "print(\"geobleu: {}\".format(geobleu_val))\n",
    "\n",
    "dtw_val = geobleu.calc_dtw(generated, reference, processes=3)\n",
    "print(\"dtw: {}\".format(dtw_val))\n",
    "\n",
    "# geobleu: 0.21733678721880598\n",
    "# dtw: 5.889002930255253"
   ]
  }
 ],
 "metadata": {
  "kernelspec": {
   "display_name": "venv",
   "language": "python",
   "name": "python3"
  },
  "language_info": {
   "codemirror_mode": {
    "name": "ipython",
    "version": 3
   },
   "file_extension": ".py",
   "mimetype": "text/x-python",
   "name": "python",
   "nbconvert_exporter": "python",
   "pygments_lexer": "ipython3",
   "version": "3.12.3"
  }
 },
 "nbformat": 4,
 "nbformat_minor": 2
}
