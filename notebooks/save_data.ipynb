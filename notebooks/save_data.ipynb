{
 "cells": [
  {
   "cell_type": "code",
   "execution_count": 1,
   "metadata": {},
   "outputs": [],
   "source": [
    "import os\n",
    "import sys\n",
    "\n",
    "parent_dir = os.path.abspath(os.path.join(os.getcwd(), \"..\"))\n",
    "sys.path.append(parent_dir)"
   ]
  },
  {
   "cell_type": "code",
   "execution_count": 2,
   "metadata": {},
   "outputs": [],
   "source": [
    "from utils.mobility_data_manager import DataManager\n",
    "\n",
    "csv_file = \"../Data/cityA_groundtruthdata.csv/cityA_groundtruthdata.csv\"\n",
    "manager = DataManager(\n",
    "    csv_path=csv_file,\n",
    ")\n",
    "df = manager.load_csv()"
   ]
  },
  {
   "cell_type": "code",
   "execution_count": 6,
   "metadata": {},
   "outputs": [],
   "source": [
    "import pandas as pd\n",
    "\n",
    "# Suponiendo que `df` es tu DataFrame original\n",
    "# Ordenar los datos por `uid` en orden descendente\n",
    "df_sorted = df.sort_values(by=\"uid\", ascending=False)\n",
    "\n",
    "# Obtener los datos de los últimos 3000 usuarios\n",
    "last_3000_users = df_sorted[\"uid\"].unique()[:1000]\n",
    "df_last_3000 = df_sorted[df_sorted[\"uid\"].isin(last_3000_users)]"
   ]
  },
  {
   "cell_type": "code",
   "execution_count": 7,
   "metadata": {},
   "outputs": [
    {
     "name": "stdout",
     "output_type": "stream",
     "text": [
      "Dimensiones del DataFrame: (992974, 5)\n",
      "\n",
      "Información del DataFrame:\n",
      "<class 'pandas.core.frame.DataFrame'>\n",
      "Index: 992974 entries, 111535164 to 110543111\n",
      "Data columns (total 5 columns):\n",
      " #   Column  Non-Null Count   Dtype\n",
      "---  ------  --------------   -----\n",
      " 0   uid     992974 non-null  int64\n",
      " 1   d       992974 non-null  int64\n",
      " 2   t       992974 non-null  int64\n",
      " 3   x       992974 non-null  int64\n",
      " 4   y       992974 non-null  int64\n",
      "dtypes: int64(5)\n",
      "memory usage: 45.5 MB\n"
     ]
    },
    {
     "data": {
      "text/plain": [
       "None"
      ]
     },
     "metadata": {},
     "output_type": "display_data"
    },
    {
     "name": "stdout",
     "output_type": "stream",
     "text": [
      "\n",
      "Resumen estadístico:\n"
     ]
    },
    {
     "data": {
      "text/html": [
       "<div>\n",
       "<style scoped>\n",
       "    .dataframe tbody tr th:only-of-type {\n",
       "        vertical-align: middle;\n",
       "    }\n",
       "\n",
       "    .dataframe tbody tr th {\n",
       "        vertical-align: top;\n",
       "    }\n",
       "\n",
       "    .dataframe thead th {\n",
       "        text-align: right;\n",
       "    }\n",
       "</style>\n",
       "<table border=\"1\" class=\"dataframe\">\n",
       "  <thead>\n",
       "    <tr style=\"text-align: right;\">\n",
       "      <th></th>\n",
       "      <th>uid</th>\n",
       "      <th>d</th>\n",
       "      <th>t</th>\n",
       "      <th>x</th>\n",
       "      <th>y</th>\n",
       "    </tr>\n",
       "  </thead>\n",
       "  <tbody>\n",
       "    <tr>\n",
       "      <th>count</th>\n",
       "      <td>992974.000000</td>\n",
       "      <td>992974.000000</td>\n",
       "      <td>992974.000000</td>\n",
       "      <td>992974.000000</td>\n",
       "      <td>992974.000000</td>\n",
       "    </tr>\n",
       "    <tr>\n",
       "      <th>mean</th>\n",
       "      <td>99485.453932</td>\n",
       "      <td>35.030088</td>\n",
       "      <td>25.733424</td>\n",
       "      <td>121.482499</td>\n",
       "      <td>84.716833</td>\n",
       "    </tr>\n",
       "    <tr>\n",
       "      <th>std</th>\n",
       "      <td>285.532392</td>\n",
       "      <td>22.093950</td>\n",
       "      <td>11.315207</td>\n",
       "      <td>40.754738</td>\n",
       "      <td>43.315214</td>\n",
       "    </tr>\n",
       "    <tr>\n",
       "      <th>min</th>\n",
       "      <td>99000.000000</td>\n",
       "      <td>0.000000</td>\n",
       "      <td>0.000000</td>\n",
       "      <td>1.000000</td>\n",
       "      <td>1.000000</td>\n",
       "    </tr>\n",
       "    <tr>\n",
       "      <th>25%</th>\n",
       "      <td>99237.000000</td>\n",
       "      <td>16.000000</td>\n",
       "      <td>17.000000</td>\n",
       "      <td>94.000000</td>\n",
       "      <td>58.000000</td>\n",
       "    </tr>\n",
       "    <tr>\n",
       "      <th>50%</th>\n",
       "      <td>99477.000000</td>\n",
       "      <td>33.000000</td>\n",
       "      <td>26.000000</td>\n",
       "      <td>125.000000</td>\n",
       "      <td>85.000000</td>\n",
       "    </tr>\n",
       "    <tr>\n",
       "      <th>75%</th>\n",
       "      <td>99730.000000</td>\n",
       "      <td>53.000000</td>\n",
       "      <td>35.000000</td>\n",
       "      <td>151.000000</td>\n",
       "      <td>109.000000</td>\n",
       "    </tr>\n",
       "    <tr>\n",
       "      <th>max</th>\n",
       "      <td>99999.000000</td>\n",
       "      <td>74.000000</td>\n",
       "      <td>47.000000</td>\n",
       "      <td>200.000000</td>\n",
       "      <td>200.000000</td>\n",
       "    </tr>\n",
       "  </tbody>\n",
       "</table>\n",
       "</div>"
      ],
      "text/plain": [
       "                 uid              d              t              x  \\\n",
       "count  992974.000000  992974.000000  992974.000000  992974.000000   \n",
       "mean    99485.453932      35.030088      25.733424     121.482499   \n",
       "std       285.532392      22.093950      11.315207      40.754738   \n",
       "min     99000.000000       0.000000       0.000000       1.000000   \n",
       "25%     99237.000000      16.000000      17.000000      94.000000   \n",
       "50%     99477.000000      33.000000      26.000000     125.000000   \n",
       "75%     99730.000000      53.000000      35.000000     151.000000   \n",
       "max     99999.000000      74.000000      47.000000     200.000000   \n",
       "\n",
       "                   y  \n",
       "count  992974.000000  \n",
       "mean       84.716833  \n",
       "std        43.315214  \n",
       "min         1.000000  \n",
       "25%        58.000000  \n",
       "50%        85.000000  \n",
       "75%       109.000000  \n",
       "max       200.000000  "
      ]
     },
     "metadata": {},
     "output_type": "display_data"
    }
   ],
   "source": [
    "# Ver las dimensiones del DataFrame (filas y columnas)\n",
    "print(f\"Dimensiones del DataFrame: {df_last_3000.shape}\")\n",
    "\n",
    "# Ver los nombres de las columnas y sus tipos de datos\n",
    "print(\"\\nInformación del DataFrame:\")\n",
    "display(df_last_3000.info())  # display() para mejor presentación en notebooks\n",
    "\n",
    "# # Mostrar las primeras filas del DataFrame\n",
    "# print(\"\\nPrimeras filas del DataFrame:\")\n",
    "\n",
    "# # Resumen estadístico de los datos numéricos\n",
    "print(\"\\nResumen estadístico:\")\n",
    "display(df_last_3000.describe())"
   ]
  },
  {
   "cell_type": "code",
   "execution_count": 8,
   "metadata": {},
   "outputs": [],
   "source": [
    "# Guardar en un nuevo DataFrame o exportarlo a un archivo\n",
    "df_last_3000.to_csv(\"../Data/cityA_groundtruthdata.csv/cityA_groundtruthdata_last_1000_users.csv\", index=False)"
   ]
  }
 ],
 "metadata": {
  "kernelspec": {
   "display_name": "venv",
   "language": "python",
   "name": "python3"
  },
  "language_info": {
   "codemirror_mode": {
    "name": "ipython",
    "version": 3
   },
   "file_extension": ".py",
   "mimetype": "text/x-python",
   "name": "python",
   "nbconvert_exporter": "python",
   "pygments_lexer": "ipython3",
   "version": "3.12.3"
  }
 },
 "nbformat": 4,
 "nbformat_minor": 2
}
