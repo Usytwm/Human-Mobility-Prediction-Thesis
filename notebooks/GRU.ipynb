{
  "cells": [
    {
      "cell_type": "code",
      "execution_count": 1,
      "metadata": {
        "colab": {
          "base_uri": "https://localhost:8080/"
        },
        "id": "KdU4YCbLib6o",
        "outputId": "3262a607-1b98-4d39-c005-dc4a81aac37f"
      },
      "outputs": [
        {
          "output_type": "stream",
          "name": "stdout",
          "text": [
            "['__builtins__', '__cached__', '__doc__', '__file__', '__loader__', '__name__', '__package__', '__path__', '__spec__', 'calc_dtw', 'calc_dtw_orig', 'calc_dtw_single', 'calc_geobleu', 'calc_geobleu_orig', 'calc_geobleu_single', 'seq_eval']\n"
          ]
        }
      ],
      "source": [
        "import torch\n",
        "import torch.nn as nn\n",
        "from torch.utils.data import Dataset, DataLoader\n",
        "\n",
        "from sklearn.preprocessing import MinMaxScaler\n",
        "from sklearn.metrics import  mean_absolute_error, root_mean_squared_error\n",
        "import geobleu\n",
        "print(dir(geobleu))\n",
        "\n",
        "import copy\n",
        "import numpy as np\n",
        "import pandas as pd\n",
        "import matplotlib.pyplot as plt\n",
        "SMALL_DATASET = False\n",
        "ROUTE = \"/content/drive/MyDrive/Data/cityA_groundtruthdata_small.csv\" if SMALL_DATASET else \"/content/drive/MyDrive/Data/cityA_groundtruthdata_first_3000_users.csv\""
      ]
    },
    {
      "cell_type": "code",
      "execution_count": 2,
      "metadata": {
        "id": "0QzNlm7OlEyJ"
      },
      "outputs": [],
      "source": [
        "def fill_missing_data(df: pd.DataFrame) -> pd.DataFrame:\n",
        "    \"\"\"\n",
        "    Rellena los datos faltantes de usuario, día y timeslot.\n",
        "    Asigna -1 a las coordenadas faltantes (x, y).\n",
        "\n",
        "    Args:\n",
        "        df (pd.DataFrame): DataFrame original con columnas ['uid', 'd', 't', 'x', 'y'].\n",
        "\n",
        "    Returns:\n",
        "        pd.DataFrame: DataFrame con datos completos (incluidos los faltantes).\n",
        "    \"\"\"\n",
        "    # Determinar los rangos de uid, días y timeslots\n",
        "    uids = df[\"uid\"].unique()\n",
        "    days = np.arange(df[\"d\"].min(), df[\"d\"].max() + 1)\n",
        "    timeslots = np.arange(48)  # 48 time slots por día\n",
        "\n",
        "    # Crear una base completa con todas las combinaciones de uid, día y timeslot\n",
        "    complete_index = pd.MultiIndex.from_product(\n",
        "        [uids, days, timeslots], names=[\"uid\", \"d\", \"t\"]\n",
        "    )\n",
        "    complete_df = pd.DataFrame(index=complete_index).reset_index()\n",
        "\n",
        "    # Combinar con los datos originales\n",
        "    df = pd.merge(complete_df, df, on=[\"uid\", \"d\", \"t\"], how=\"left\")\n",
        "\n",
        "    # Rellenar valores faltantes: asignar -1 a las coordenadas\n",
        "    df[\"x\"] = df[\"x\"].fillna(-1)\n",
        "    df[\"y\"] = df[\"y\"].fillna(-1)\n",
        "\n",
        "    return df\n",
        "\n",
        "\n",
        "def split_data(df: pd.DataFrame) -> tuple:\n",
        "    \"\"\"\n",
        "    Divide los datos en entrenamiento, validación y prueba, asegurando 15 días adicionales\n",
        "    para las secuencias de validación y prueba.\n",
        "    \"\"\"\n",
        "\n",
        "    # Entrenamiento: datos antes del día 44\n",
        "    train = df[df[\"d\"] < 44]\n",
        "\n",
        "    # Validación: incluye días desde el 37 (44 - 7) para construir las secuencias\n",
        "    val = df[(df[\"d\"] >= 37) & (df[\"d\"] < 59)]\n",
        "\n",
        "    # Prueba: incluye días desde el 52 (59 - 7) para construir las secuencias\n",
        "    test = df[df[\"d\"] >= 52]\n",
        "\n",
        "    return train.copy(), val.copy(), test.copy()\n",
        "\n",
        "\n",
        "def create_sequences(\n",
        "    data: pd.DataFrame,\n",
        "    columns,\n",
        "    input_days=7,\n",
        "    predict_days=7,\n",
        "    times_per_day=48,\n",
        "    for_day=True,\n",
        "):\n",
        "    \"\"\"\n",
        "    Crea las secuencias deslizantes para entrada y predicción.\n",
        "\n",
        "    Args:\n",
        "        data (pd.DataFrame): Datos completos con columnas ['x', 'y', 't', 'd'].\n",
        "        input_days (int): Número de días de entrada.\n",
        "        predict_days (int): Número de días a predecir.\n",
        "        times_per_day (int): Cantidad de time slots por día.\n",
        "\n",
        "    Returns:\n",
        "        list of tuples: Lista de (input_seq, target_seq).\n",
        "    \"\"\"\n",
        "    input_steps = input_days * times_per_day\n",
        "    predict_steps = predict_days * times_per_day\n",
        "    sequences = []\n",
        "\n",
        "    # Convertir a numpy para mayor eficiencia\n",
        "    data_array = data[columns].values\n",
        "\n",
        "    # Crear la máscara (1 si no es 0, 0 si es 0)\n",
        "    mask = (data_array != 0).astype(int)\n",
        "\n",
        "    # Generar las ventanas deslizantes\n",
        "\n",
        "    for idx in range(\n",
        "        0, len(data) - input_steps - predict_steps, times_per_day if for_day else 1\n",
        "    ):  # ventanas por dias\n",
        "        # Secuencia de entrada (15 días)\n",
        "        input_seq = data_array[idx : idx + input_steps]\n",
        "        mask_seq = mask[idx : idx + input_steps]\n",
        "\n",
        "        # Secuencia de salida (7 días)\n",
        "        target_seq = data_array[\n",
        "            idx + input_steps : idx + input_steps + predict_steps, :2\n",
        "        ]  # Solo x, y\n",
        "        mask_target = mask[idx + input_steps : idx + input_steps + predict_steps, :2]\n",
        "\n",
        "        sequences.append((input_seq, target_seq, mask_seq, mask_target))\n",
        "\n",
        "    return sequences\n",
        "\n",
        "\n",
        "def get_scaler(df: pd.DataFrame, columns: list):\n",
        "    \"\"\"\n",
        "    Ajusta un MinMaxScaler a las columnas especificadas del DataFrame y devuelve el scaler.\n",
        "\n",
        "    Args:\n",
        "        df (pd.DataFrame): DataFrame con los datos originales.\n",
        "        columns (list): Lista de nombres de columnas a normalizar.\n",
        "\n",
        "    Returns:\n",
        "        scaler: Instancia ajustada de MinMaxScaler.\n",
        "    \"\"\"\n",
        "    # Crear un scaler\n",
        "    scaler = MinMaxScaler()\n",
        "\n",
        "    # Ajustar el scaler a las columnas especificadas\n",
        "    scaler.fit(df[columns])\n",
        "    return scaler\n",
        "\n",
        "\n",
        "def normalize_dataset(df: pd.DataFrame, scaler: MinMaxScaler, columns: list):\n",
        "    \"\"\"\n",
        "    Normaliza las columnas especificadas de un DataFrame utilizando un MinMaxScaler ya ajustado.\n",
        "\n",
        "    Args:\n",
        "        df (pd.DataFrame): DataFrame con los datos originales.\n",
        "        scaler (MinMaxScaler): Scaler ajustado con los datos de entrenamiento.\n",
        "        columns (list): Lista de nombres de columnas a normalizar.\n",
        "\n",
        "    Returns:\n",
        "        pd.DataFrame: DataFrame normalizado\n",
        "    \"\"\"\n",
        "    # Transformar las columnas especificadas con el scaler ajustado\n",
        "    df[columns] = scaler.transform(df[columns])\n",
        "    return df\n",
        "\n",
        "\n",
        "def inverse_transform_predictions(\n",
        "\n",
        "    predictions, scaler: MinMaxScaler, columns_to_desnormalize\n",
        "):\n",
        "    \"\"\"\n",
        "    Desnormaliza las predicciones del modelo usando el scaler ajustado.\n",
        "\n",
        "    Args:\n",
        "        predictions (torch.Tensor or np.ndarray): Predicciones normalizadas con forma (batch_size, sequence_length, num_features).\n",
        "        scaler (MinMaxScaler): Scaler ajustado con los datos de entrada.\n",
        "        columns_to_desnormalize (list): Índices de las columnas a desnormalizar (por ejemplo, [0, 1] para x, y).\n",
        "\n",
        "    Returns:\n",
        "        np.ndarray: Predicciones desnormalizadas con la misma forma que las predicciones originales.\n",
        "    \"\"\"\n",
        "    # Si es un tensor de PyTorch, conviértelo a un numpy array\n",
        "    if isinstance(predictions, torch.Tensor):\n",
        "        predictions = predictions.detach().cpu().numpy()\n",
        "\n",
        "    batch_size, sequence_length, num_features = predictions.shape\n",
        "\n",
        "    # Crear un array desnormalizado con la misma forma que las predicciones\n",
        "    desnormalized = np.zeros_like(predictions)\n",
        "\n",
        "    # Desnormalizar cada elemento del batch\n",
        "    for i in range(batch_size):\n",
        "        # Extraer la predicción del batch actual (sequence_length, num_features)\n",
        "        single_prediction = predictions[i]\n",
        "\n",
        "        # Crear una matriz con el mismo número de columnas que el scaler original\n",
        "        full_array = np.zeros((sequence_length, scaler.n_features_in_))\n",
        "\n",
        "        # Insertar las predicciones en las columnas correspondientes\n",
        "        full_array[:, columns_to_desnormalize] = single_prediction\n",
        "\n",
        "        # Aplicar la transformación inversa\n",
        "        full_array = scaler.inverse_transform(full_array)\n",
        "\n",
        "        # Extraer las columnas desnormalizadas correspondientes\n",
        "        desnormalized[i] = full_array[:, columns_to_desnormalize]\n",
        "\n",
        "    return desnormalized"
      ]
    },
    {
      "cell_type": "code",
      "execution_count": 3,
      "metadata": {
        "id": "GGk51IaslJfN"
      },
      "outputs": [],
      "source": [
        "class GRU_Dataset(Dataset):\n",
        "    def __init__(self, sequences):\n",
        "        \"\"\"\n",
        "        Dataset que maneja las secuencias generadas de entrada, salida y máscara.\n",
        "\n",
        "        Args:\n",
        "            sequences (list of tuples): Lista de (input_seq, target_seq, mask_seq, mask_target_seq).\n",
        "        \"\"\"\n",
        "        self.sequences = sequences\n",
        "\n",
        "    def __len__(self):\n",
        "        return len(self.sequences)\n",
        "\n",
        "    def __getitem__(self, idx):\n",
        "        input_seq, target_seq, mask_seq, mask_target_seq = self.sequences[idx]\n",
        "        input_seq = torch.tensor(input_seq, dtype=torch.float32)\n",
        "        target_seq = torch.tensor(target_seq, dtype=torch.float32)\n",
        "        mask_seq = torch.tensor(mask_seq, dtype=torch.float32)\n",
        "        mask_target_seq = torch.tensor(mask_target_seq, dtype=torch.float32)\n",
        "        return input_seq, target_seq, mask_seq, mask_target_seq"
      ]
    },
    {
      "cell_type": "code",
      "execution_count": 4,
      "metadata": {
        "id": "_6oFsV2ilNoa"
      },
      "outputs": [],
      "source": [
        "class GRU_Model(nn.Module):\n",
        "    def __init__(self, input_size, hidden_size, output_size, num_layers=2, dropout=0.2):\n",
        "        \"\"\"\n",
        "        Modelo GRU para predicción de series temporales.\n",
        "\n",
        "        Args:\n",
        "            input_size (int): Número de características de entrada (e.g., 3: x, y, t).\n",
        "            hidden_size (int): Dimensión del estado oculto de la GRU.\n",
        "            output_size (int): Número de características de salida (e.g., 2: x, y).\n",
        "            num_layers (int): Número de capas GRU.\n",
        "            dropout (float): Dropout para regularización.\n",
        "        \"\"\"\n",
        "        super(GRU_Model, self).__init__()\n",
        "        self.gru = nn.GRU(\n",
        "            input_size, hidden_size, num_layers, batch_first=True, dropout=dropout\n",
        "        )\n",
        "        self.fc = nn.Linear(hidden_size, output_size)\n",
        "\n",
        "    def forward(self, x):\n",
        "        \"\"\"\n",
        "        Forward pass del modelo.\n",
        "\n",
        "        Args:\n",
        "            x (torch.Tensor): Tensor de entrada con forma (batch_size, sequence_length, input_size).\n",
        "\n",
        "        Returns:\n",
        "            torch.Tensor: Predicciones con forma (batch_size, prediction_length, output_size).\n",
        "        \"\"\"\n",
        "        # x -> (batch_size, sequence_length, input_size)\n",
        "        out, _ = self.gru(x)  # out -> (batch_size, sequence_length, hidden_size)\n",
        "        out = self.fc(out)  # out -> (batch_size, sequence_length, output_size)\n",
        "        return out"
      ]
    },
    {
      "cell_type": "code",
      "execution_count": 5,
      "metadata": {
        "id": "YoOLvV8Xlril"
      },
      "outputs": [],
      "source": [
        "def train_gru_model(\n",
        "    model: nn.Module,\n",
        "    train_loader: DataLoader,\n",
        "    val_loader: DataLoader,\n",
        "    epochs: int,\n",
        "    learning_rate: float,\n",
        "    device: torch.device,\n",
        "):\n",
        "    \"\"\"\n",
        "    Entrena el modelo GRU con un ciclo de entrenamiento y validación.\n",
        "\n",
        "    Args:\n",
        "        model (nn.Module): Modelo GRU.\n",
        "        train_loader (DataLoader): DataLoader para entrenamiento.\n",
        "        val_loader (DataLoader): DataLoader para validación.\n",
        "        epochs (int): Número de épocas.\n",
        "        learning_rate (float): Tasa de aprendizaje.\n",
        "        device (torch.device): Dispositivo para computación (CPU/GPU).\n",
        "\n",
        "    Returns:\n",
        "        dict: Diccionario con:\n",
        "            - 'best_model': Modelo con el mejor desempeño en validación.\n",
        "            - 'train_losses': Lista de pérdidas de entrenamiento por época.\n",
        "            - 'val_losses': Lista de pérdidas de validación por época.\n",
        "            - 'best_epoch': Época con la menor pérdida de validación.\n",
        "    \"\"\"\n",
        "    # Mover modelo a dispositivo\n",
        "    model.to(device)\n",
        "    optimizer = torch.optim.Adam(model.parameters(), lr=learning_rate)\n",
        "    criterion = nn.MSELoss(\n",
        "        reduction=\"none\"\n",
        "    )  # Usamos reducción personalizada para manejar máscaras\n",
        "\n",
        "    best_model_weights = None\n",
        "    best_val_loss = float(\"inf\")  # Mejor pérdida de validación\n",
        "    best_epoch = -1\n",
        "\n",
        "    train_losses = []\n",
        "    val_losses = []\n",
        "\n",
        "    for epoch in range(epochs):\n",
        "        # Modo de entrenamiento\n",
        "        model.train()\n",
        "        train_loss = 0.0\n",
        "\n",
        "        for inputs, targets, masks_inputs, masks_targets in train_loader:\n",
        "            # Mover datos a dispositivo\n",
        "            inputs, targets, masks_targets = (\n",
        "                inputs.to(device),\n",
        "                targets.to(device),\n",
        "                masks_targets.to(device),\n",
        "            )\n",
        "\n",
        "            # Forward\n",
        "            optimizer.zero_grad()\n",
        "            outputs = model(inputs)\n",
        "            if torch.isnan(inputs).any() or torch.isnan(targets).any() or torch.isnan(masks_targets).any():\n",
        "              print(\"⚠️ Warning: Se encontraron NaN en los datos de entrada o las etiquetas\")\n",
        "\n",
        "            # Aplicar la máscara a la pérdida\n",
        "            loss = criterion(outputs, targets)\n",
        "            mask_sum = masks_targets.sum()\n",
        "            if mask_sum == 0:\n",
        "              print(\"⚠️ Warning: No se encontraron valores válidos en la máscara\")\n",
        "              loss = loss.mean()  # Si no hay valores válidos, tomar el promedio normal\n",
        "            else:\n",
        "                loss = (loss * masks_targets).sum() / mask_sum  # Normalización correcta\n",
        "            # loss = (loss * masks_targets).sum() / masks_targets.sum()  # Pérdida ponderada por la máscara\n",
        "\n",
        "            # Backpropagation\n",
        "            loss.backward()\n",
        "            # torch.nn.utils.clip_grad_norm_(model.parameters(), max_norm=1.0)\n",
        "\n",
        "            optimizer.step()\n",
        "\n",
        "            train_loss += loss.item()\n",
        "\n",
        "        # Validación\n",
        "        model.eval()\n",
        "        val_loss = 0.0\n",
        "        with torch.no_grad():\n",
        "            for inputs, targets, masks_inputs, masks_targets in val_loader:\n",
        "                inputs, targets, masks_targets = (\n",
        "                    inputs.to(device),\n",
        "                    targets.to(device),\n",
        "                    masks_targets.to(device),\n",
        "                )\n",
        "                outputs = model(inputs)\n",
        "                loss = criterion(outputs, targets)\n",
        "                loss = (loss * masks_targets).sum() / masks_targets.sum()\n",
        "                val_loss += loss.item()\n",
        "\n",
        "        # Promedio de las pérdidas\n",
        "        train_loss /= len(train_loader)\n",
        "        val_loss /= len(val_loader)\n",
        "\n",
        "        train_losses.append(train_loss)\n",
        "        val_losses.append(val_loss)\n",
        "\n",
        "        print(\n",
        "            f\"Epoch {epoch + 1}/{epochs}, Train Loss: {train_loss:.4f}, Val Loss: {val_loss:.4f}\"\n",
        "        )\n",
        "\n",
        "        # Guardar los pesos del mejor modelo\n",
        "        if val_loss < best_val_loss:\n",
        "            best_val_loss = val_loss\n",
        "            best_epoch = epoch + 1\n",
        "            best_model_weights = copy.deepcopy(model.state_dict())  # Guardar los pesos\n",
        "\n",
        "    print(\n",
        "        f\"\\nEl mejor modelo se obtuvo en la época {best_epoch} con una pérdida de validación de {best_val_loss:.4f}.\"\n",
        "    )\n",
        "\n",
        "    # Cargar los mejores pesos en el modelo\n",
        "    model.load_state_dict(best_model_weights)\n",
        "\n",
        "    return {\n",
        "        \"best_model\": model,  # Devuelve el modelo con los mejores pesos\n",
        "        \"train_losses\": train_losses,\n",
        "        \"val_losses\": val_losses,\n",
        "        \"best_epoch\": best_epoch,\n",
        "    }\n",
        "\n",
        "\n",
        "def evaluate_model(\n",
        "    model,\n",
        "    data_loader,\n",
        "    scaler,\n",
        "    columns_to_desnormalize,\n",
        "    device,\n",
        "    dataset_name=\"Validación\",\n",
        "):\n",
        "    \"\"\"\n",
        "    Evalúa el desempeño del modelo en un conjunto de datos (validación o prueba).\n",
        "\n",
        "    Args:\n",
        "        model (nn.Module): Modelo GRU entrenado.\n",
        "        data_loader (DataLoader): DataLoader para el conjunto a evaluar.\n",
        "        scaler (MinMaxScaler): Scaler ajustado con los datos de entrenamiento.\n",
        "        columns_to_desnormalize (list): Columnas a desnormalizar.\n",
        "        device (torch.device): Dispositivo de computación (CPU/GPU).\n",
        "        dataset_name (str): Nombre del conjunto de datos (para identificar la evaluación).\n",
        "\n",
        "    Returns:\n",
        "        dict: Métricas de evaluación (MAE, RMSE, pérdida promedio).\n",
        "    \"\"\"\n",
        "    model.eval()\n",
        "    total_loss = 0.0\n",
        "    all_predictions = []\n",
        "    all_targets = []\n",
        "\n",
        "    criterion = nn.MSELoss(\n",
        "        reduction=\"none\"\n",
        "    )  # Usamos reducción 'none' para manejar máscaras\n",
        "\n",
        "    with torch.no_grad():\n",
        "        for inputs, targets, masks_inputs, masks_targets in data_loader:\n",
        "            # Mover a dispositivo\n",
        "            inputs, targets, masks_targets = (\n",
        "                inputs.to(device),\n",
        "                targets.to(device),\n",
        "                masks_targets.to(device),\n",
        "            )\n",
        "\n",
        "            # Predicciones del modelo\n",
        "            outputs = model(inputs)\n",
        "\n",
        "            # Calcular la pérdida con la máscara\n",
        "            loss = criterion(outputs, targets)\n",
        "            loss = (loss * masks_targets).sum() / masks_targets.sum()\n",
        "            total_loss += loss.item()\n",
        "\n",
        "            # Desnormalizar las predicciones y valores reales\n",
        "            outputs = outputs.cpu().numpy()\n",
        "            targets = targets.cpu().numpy()\n",
        "            outputs_desnormalized = inverse_transform_predictions(\n",
        "                outputs, scaler, columns_to_desnormalize\n",
        "            )\n",
        "            targets_desnormalized = inverse_transform_predictions(\n",
        "                targets, scaler, columns_to_desnormalize\n",
        "            )\n",
        "\n",
        "            # Convertir la máscara a NumPy\n",
        "            masks_targets_numpy = masks_targets.cpu().numpy()\n",
        "\n",
        "            # Aplicar la máscara para poner NaN en posiciones no válidas\n",
        "            outputs_desnormalized[masks_targets_numpy == 0] = np.nan\n",
        "            targets_desnormalized[masks_targets_numpy == 0] = np.nan\n",
        "\n",
        "            # Almacenar para métricas globales\n",
        "            all_predictions.append(outputs_desnormalized)\n",
        "            all_targets.append(targets_desnormalized)\n",
        "\n",
        "    # Concatenar todas las predicciones y objetivos (3D -> 2D)\n",
        "    all_predictions = np.concatenate(all_predictions, axis=0).reshape(-1, 2)  # Aplanar\n",
        "    all_targets = np.concatenate(all_targets, axis=0).reshape(-1, 2)  # Aplanar\n",
        "\n",
        "    # Remover NaN introducidos por la máscara\n",
        "    valid_indices = ~np.isnan(all_predictions[:, 0])\n",
        "    all_predictions = all_predictions[valid_indices]\n",
        "    all_targets = all_targets[valid_indices]\n",
        "\n",
        "    # Calcular métricas usando NumPy o scikit-learn\n",
        "    mae = mean_absolute_error(all_targets, all_predictions)\n",
        "    rmse = root_mean_squared_error(all_targets, all_predictions)\n",
        "    avg_loss = total_loss / len(data_loader)\n",
        "\n",
        "    print(f\"Resultados en {dataset_name}:\")\n",
        "    print(f\"  - MAE: {mae:.4f}\")\n",
        "    print(f\"  - RMSE: {rmse:.4f}\")\n",
        "    print(f\"  - Loss: {avg_loss:.4f}\")\n",
        "\n",
        "    return {\n",
        "        \"MAE\": mae,\n",
        "        \"RMSE\": rmse,\n",
        "        \"Loss\": avg_loss,\n",
        "        \"Predictions\": all_predictions,\n",
        "        \"Targets\": all_targets,\n",
        "    }"
      ]
    },
    {
      "cell_type": "code",
      "execution_count": 6,
      "metadata": {
        "id": "VXm3LjonluHS"
      },
      "outputs": [],
      "source": [
        "def evaluate_metrics_sequence(\n",
        "    data, model, scaler,columns, device\n",
        "):\n",
        "    \"\"\"\n",
        "    Evalúa las métricas definidas en base a las predicciones generadas por el modelo para una sola secuencia.\n",
        "\n",
        "    Args:\n",
        "        data (pd.DataFrame): Dataset que contiene las columnas necesarias.\n",
        "        model (nn.Module): Modelo GRU entrenado.\n",
        "        scaler (MinMaxScaler): Scaler ajustado para normalización/desnormalización.\n",
        "        metrics_instances (list): Lista de instancias de métricas (e.g., LPPMetric, MAEMetric, etc.).\n",
        "        columns (list): Columnas necesarias para el modelo (e.g., ['x', 'y', 't', 'd']).\n",
        "        device (torch.device): Dispositivo donde se ejecutará el modelo (CPU o GPU).\n",
        "\n",
        "    Returns:\n",
        "        dict: Resultados de las métricas calculadas.\n",
        "    \"\"\"\n",
        "    model.to(device)\n",
        "\n",
        "    model.eval()\n",
        "\n",
        "    # Definir parámetros\n",
        "    times_per_day = 48\n",
        "    input_days = 7  # Días de entrada\n",
        "    predict_days = 7  # Días de predicción\n",
        "\n",
        "    # Crear la secuencia usando el primer día del dataset como referencia\n",
        "    sequences = create_sequences(\n",
        "        data,\n",
        "        columns=columns,\n",
        "        input_days=input_days,\n",
        "        predict_days=predict_days,\n",
        "        times_per_day=times_per_day,\n",
        "        for_day=True,\n",
        "    )\n",
        "\n",
        "    # Solo necesitamos una secuencia\n",
        "    input_seq, target_seq, mask_seq, mask_target = sequences[0]\n",
        "\n",
        "    # Convertir a tensores\n",
        "    input_tensor = torch.tensor(input_seq, dtype=torch.float32).unsqueeze(0).to(device)\n",
        "\n",
        "    # Generar predicciones\n",
        "    with torch.no_grad():\n",
        "        predictions = model(input_tensor).cpu().numpy()\n",
        "\n",
        "    # Desnormalizar las predicciones\n",
        "    predictions_desnormalized = inverse_transform_predictions(\n",
        "        predictions, scaler, [0, 1]  # Desnormalizamos las columnas `x` e `y`\n",
        "    )\n",
        "\n",
        "    # Reconstruir (d, t, x, y) para predicciones y targets, considerando solo los datos válidos por la máscara\n",
        "    generated_sequences = []\n",
        "    reference_sequences = []\n",
        "\n",
        "    current_day = int(data[\"d\"].iloc[0])  # Primer día del dataset\n",
        "    current_timeslot = 0\n",
        "\n",
        "    n_columns = scaler.n_features_in_\n",
        "    for step_idx, (x_pred, y_pred) in enumerate(\n",
        "        predictions_desnormalized[0]\n",
        "    ):  # Batch único\n",
        "        if mask_target[step_idx].sum() > 0:  # Considerar solo si la máscara lo permite\n",
        "            day_offset = current_timeslot // times_per_day\n",
        "            d = current_day + day_offset\n",
        "            t = current_timeslot % times_per_day\n",
        "\n",
        "            generated_sequences.append((d, t, x_pred, y_pred))\n",
        "\n",
        "            # Target correspondiente (desnormalizar targets)\n",
        "            x_true, y_true = target_seq[step_idx]\n",
        "            # Creas un arreglo de ceros con el tamaño total de columnas\n",
        "            features_array = np.zeros(n_columns)\n",
        "            features_array[0] = x_true\n",
        "            features_array[1] = y_true\n",
        "            target_desnormalized = scaler.inverse_transform(\n",
        "                [features_array]\n",
        "            )  # Columna extra para mantener el tamaño\n",
        "            x_true_desnormalized, y_true_desnormalized = target_desnormalized[0][:2]\n",
        "            reference_sequences.append(\n",
        "                (d, t, x_true_desnormalized, y_true_desnormalized)\n",
        "            )\n",
        "\n",
        "        current_timeslot += 1\n",
        "\n",
        "    return generated_sequences, reference_sequences"
      ]
    },
    {
      "cell_type": "code",
      "execution_count": 7,
      "metadata": {
        "id": "FGOYUiPPqJIh"
      },
      "outputs": [],
      "source": [
        "from abc import ABC, abstractmethod\n",
        "import geobleu\n",
        "import numpy as np\n",
        "\n",
        "\n",
        "class Metric(ABC):\n",
        "    \"\"\"\n",
        "    Clase base abstracta para diferentes métricas.\n",
        "    \"\"\"\n",
        "\n",
        "    @abstractmethod\n",
        "    def calculate(self, predictions, validation):\n",
        "        \"\"\"\n",
        "        Calcula el puntaje de la métrica basada en las predicciones y los datos de validación.\n",
        "\n",
        "        Args:\n",
        "            predictions: Los datos predichos.\n",
        "            validation: Los datos de validación.\n",
        "\n",
        "        Returns:\n",
        "            El puntaje calculado.\n",
        "        \"\"\"\n",
        "        pass\n",
        "\n",
        "\n",
        "class LPPMetric(Metric):\n",
        "    \"\"\"\n",
        "    Métrica para calcular la Precisión de Predicción de Ubicación (LPP).\n",
        "    \"\"\"\n",
        "\n",
        "    def calculate(self, predictions, validation):\n",
        "        return calculate_lpp(validation, predictions)\n",
        "\n",
        "\n",
        "class MAEMetric(Metric):\n",
        "    \"\"\"\n",
        "    Métrica para calcular el Error Medio Absoluto (MAE).\n",
        "    \"\"\"\n",
        "\n",
        "    def calculate(self, predictions_per_user, validation_per_user):\n",
        "        return calculate_error_metrics(predictions_per_user, validation_per_user)[\"MAE\"]\n",
        "\n",
        "\n",
        "class GeoBLEUMetric(Metric):\n",
        "    \"\"\"\n",
        "    Métrica para calcular el puntaje GeoBLEU.\n",
        "    \"\"\"\n",
        "\n",
        "    def calculate(self, predictions_per_user, validation_per_user):\n",
        "        return calculate_geobleu_for_quadrant(predictions_per_user, validation_per_user)\n",
        "\n",
        "\n",
        "class DTWMetric(Metric):\n",
        "    \"\"\"\n",
        "    Métrica para calcular el puntaje de Dynamic Time Warping (DTW).\n",
        "    \"\"\"\n",
        "\n",
        "    def calculate(self, predictions_per_user, validation_per_user):\n",
        "        return calculate_dtw_for_quadrant(predictions_per_user, validation_per_user)\n",
        "\n",
        "\n",
        "def calculate_lpp(predictions_per_user, validation_per_user, tolerance=4.0):\n",
        "    \"\"\"\n",
        "    Calcula la Precisión de Predicción de Ubicación (LPP), ignorando los valores NaN,\n",
        "    y permitiendo un margen de error definido por un umbral.\n",
        "\n",
        "    Args:\n",
        "        predictions_per_user (list of list of tuples): Lista de trayectorias generadas por cada usuario.\n",
        "        validation_per_user (list of list of tuples): Lista de trayectorias reales por cada usuario.\n",
        "        tolerance (float): Margen de error en unidades de distancia para considerar una predicción correcta.\n",
        "\n",
        "    Returns:\n",
        "        float: La precisión de ubicación como porcentaje de coincidencias dentro del margen.\n",
        "    \"\"\"\n",
        "    correct_predictions = 0\n",
        "    total_predictions = 0\n",
        "\n",
        "    for predicted_traj, actual_traj in zip(predictions_per_user, validation_per_user):\n",
        "        for predicted_point, actual_point in zip(predicted_traj, actual_traj):\n",
        "            # Asegurar que las coordenadas reales no sean NaN\n",
        "            if not any(np.isnan(coord) for coord in actual_point[2:]):\n",
        "                # Calcular distancia euclidiana entre puntos predichos y reales\n",
        "                distance = np.sqrt(\n",
        "                    (predicted_point[2] - actual_point[2]) ** 2\n",
        "                    + (predicted_point[3] - actual_point[3]) ** 2\n",
        "                )\n",
        "                # Contar como correcta si la distancia está dentro del margen de tolerancia\n",
        "                if distance <= tolerance:\n",
        "                    correct_predictions += 1\n",
        "                total_predictions += 1\n",
        "\n",
        "    # Calcular el porcentaje de precisión\n",
        "    lpp = (\n",
        "        (correct_predictions / total_predictions) * 100\n",
        "        if total_predictions > 0\n",
        "        else 0.0\n",
        "    )\n",
        "    return lpp\n",
        "\n",
        "\n",
        "def calculate_error_metrics(predictions_per_user, validation_per_user):\n",
        "    \"\"\"\n",
        "    Calcula métricas de error entre trayectorias predichas y reales:\n",
        "    - Error Medio Absoluto (MAE)\n",
        "    - Error Máximo\n",
        "    - Distribución de Errores\n",
        "\n",
        "    Args:\n",
        "        predictions_per_user (list of list of tuples): Trayectorias predichas [(d, t, x, y)].\n",
        "        validation_per_user (list of list of tuples): Trayectorias reales [(d, t, x, y)].\n",
        "\n",
        "    Returns:\n",
        "        dict: Métricas calculadas.\n",
        "    \"\"\"\n",
        "    errors = []\n",
        "\n",
        "    for predicted_traj, actual_traj in zip(predictions_per_user, validation_per_user):\n",
        "        for predicted_point, actual_point in zip(predicted_traj, actual_traj):\n",
        "            # Ignorar puntos donde las coordenadas reales sean NaN\n",
        "            if not any(np.isnan(coord) for coord in actual_point[2:]):\n",
        "                # Calcular distancia euclidiana\n",
        "                distance = np.sqrt(\n",
        "                    (predicted_point[2] - actual_point[2]) ** 2\n",
        "                    + (predicted_point[3] - actual_point[3]) ** 2\n",
        "                )\n",
        "                errors.append(distance)\n",
        "\n",
        "    # Calcular métricas\n",
        "    mae = np.mean(errors) if errors else 0.0\n",
        "    max_error = np.max(errors) if errors else 0.0\n",
        "\n",
        "    # Retornar resultados\n",
        "    return {\"MAE\": mae, \"Max Error\": max_error, \"Errors\": errors}\n",
        "\n",
        "\n",
        "def calculate_geobleu_for_quadrant(predictions_per_user, validation_per_user):\n",
        "    \"\"\"\n",
        "    Calcula el puntaje promedio de GeoBLEU para cada usuario comparando las trayectorias generadas y de referencia.\n",
        "\n",
        "    Args:\n",
        "        predictions_per_user (list of list of tuples): Lista de trayectorias generadas por cada usuario.\n",
        "        validation_per_user (list of list of tuples): Lista de trayectorias de referencia por cada usuario.\n",
        "\n",
        "    Returns:\n",
        "        float: El puntaje promedio de GeoBLEU para todos los usuarios comparados.\n",
        "    \"\"\"\n",
        "    total_score = 0\n",
        "    valid_users = 0\n",
        "    for predictions, validation in zip(predictions_per_user, validation_per_user):\n",
        "        if predictions and validation:  # Aseguramos que haya datos comparables\n",
        "            score = geobleu.calc_geobleu(predictions, validation, processes=3)\n",
        "            total_score += score\n",
        "            valid_users += 1\n",
        "    return total_score / valid_users if valid_users else 0\n",
        "\n",
        "\n",
        "def calculate_dtw_for_quadrant(predictions_per_user, validation_per_user):\n",
        "    \"\"\"\n",
        "    Calcula el puntaje promedio de DTW para cada usuario comparando las trayectorias generadas y de referencia.\n",
        "\n",
        "    Args:\n",
        "        predictions_per_user (list of list of tuples): Lista de trayectorias generadas por cada usuario.\n",
        "        validation_per_user (list of list of tuples): Lista de trayectorias de referencia por cada usuario.\n",
        "\n",
        "    Returns:\n",
        "        float: El puntaje promedio de DTW para todos los usuarios comparados.\n",
        "    \"\"\"\n",
        "    total_score = 0\n",
        "    valid_users = 0\n",
        "    for predictions, validation in zip(predictions_per_user, validation_per_user):\n",
        "        if predictions and validation:  # Aseguramos que haya datos comparables\n",
        "            score = geobleu.calc_dtw(predictions, validation)\n",
        "            total_score += score\n",
        "            valid_users += 1\n",
        "    return total_score / valid_users if valid_users else 0\n"
      ]
    },
    {
      "cell_type": "code",
      "execution_count": 8,
      "metadata": {
        "id": "vYQwOE3Flyqg"
      },
      "outputs": [],
      "source": [
        "df = pd.read_csv(ROUTE)"
      ]
    },
    {
      "cell_type": "code",
      "execution_count": 9,
      "metadata": {
        "id": "5GOGxn1Tly4C"
      },
      "outputs": [],
      "source": [
        "df_fill = fill_missing_data(df)"
      ]
    },
    {
      "cell_type": "code",
      "execution_count": 10,
      "metadata": {
        "id": "obK-FNeVpeiV"
      },
      "outputs": [],
      "source": [
        "COLUMNS = [\"x\", \"y\", \"t\"]\n",
        "\n",
        "# Dividir los datos\n",
        "train_data, val_data, test_data = split_data(df_fill)\n",
        "\n",
        "# Ajustar el scaler a los datos de entrenamiento\n",
        "scaler = get_scaler(train_data, COLUMNS)\n",
        "\n",
        "# Normalizar los datos solamnete con l scaler del train\n",
        "train_data = normalize_dataset(train_data, scaler, COLUMNS)\n",
        "val_data = normalize_dataset(val_data, scaler, COLUMNS)\n",
        "test_data = normalize_dataset(test_data, scaler, COLUMNS)\n",
        "\n",
        "# Crear las secuencias para cada conjunto\n",
        "train_sequences = create_sequences(train_data, COLUMNS)\n",
        "val_sequences = create_sequences(val_data, COLUMNS)\n",
        "test_sequences = create_sequences(test_data, COLUMNS)\n",
        "\n",
        "# Crear datasets\n",
        "train_dataset = GRU_Dataset(train_sequences)\n",
        "val_dataset = GRU_Dataset(val_sequences)\n",
        "test_dataset = GRU_Dataset(test_sequences)\n",
        "\n",
        "# Crear DataLoaders\n",
        "train_loader = DataLoader(train_dataset, batch_size=32, shuffle=False)\n",
        "val_loader = DataLoader(val_dataset, batch_size=32, shuffle=False)\n",
        "test_loader = DataLoader(test_dataset, batch_size=32, shuffle=False)"
      ]
    },
    {
      "cell_type": "code",
      "execution_count": 11,
      "metadata": {
        "id": "0kgbm5cKpiMX"
      },
      "outputs": [],
      "source": [
        "# Hiperparámetros\n",
        "input_size = 3  # Número de características de entrada: x, y, t\n",
        "hidden_size = 128  # Tamaño del estado oculto de la GRU\n",
        "output_size = 2  # Predicción de x, y\n",
        "num_layers = 3  # Capas GRU\n",
        "dropout = 0.2  # Dropout para regularización\n",
        "\n",
        "\n",
        "model = GRU_Model(input_size, hidden_size, output_size, num_layers, dropout)\n",
        "device = torch.device(\"cuda\" if torch.cuda.is_available() else \"cpu\")"
      ]
    },
    {
      "cell_type": "code",
      "execution_count": 12,
      "metadata": {
        "colab": {
          "base_uri": "https://localhost:8080/",
          "height": 1000
        },
        "id": "FtKKMPSppnZc",
        "outputId": "02a301ba-3ebd-4a7d-f63f-14043b7a3e5a"
      },
      "outputs": [
        {
          "output_type": "stream",
          "name": "stdout",
          "text": [
            "Epoch 1/30, Train Loss: 0.0284, Val Loss: 0.0346\n",
            "Epoch 2/30, Train Loss: 0.0230, Val Loss: 0.0335\n",
            "Epoch 3/30, Train Loss: 0.0219, Val Loss: 0.0323\n",
            "Epoch 4/30, Train Loss: 0.0205, Val Loss: 0.0309\n",
            "Epoch 5/30, Train Loss: 0.0201, Val Loss: 0.0305\n",
            "Epoch 6/30, Train Loss: 0.0198, Val Loss: 0.0301\n",
            "Epoch 7/30, Train Loss: 0.0197, Val Loss: 0.0300\n",
            "Epoch 8/30, Train Loss: 0.0195, Val Loss: 0.0298\n",
            "Epoch 9/30, Train Loss: 0.0194, Val Loss: 0.0297\n",
            "Epoch 10/30, Train Loss: 0.0193, Val Loss: 0.0298\n",
            "Epoch 11/30, Train Loss: 0.0192, Val Loss: 0.0298\n",
            "Epoch 12/30, Train Loss: 0.0191, Val Loss: 0.0297\n",
            "Epoch 13/30, Train Loss: 0.0190, Val Loss: 0.0297\n",
            "Epoch 14/30, Train Loss: 0.0189, Val Loss: 0.0297\n",
            "Epoch 15/30, Train Loss: 0.0188, Val Loss: 0.0296\n",
            "Epoch 16/30, Train Loss: 0.0187, Val Loss: 0.0297\n",
            "Epoch 17/30, Train Loss: 0.0187, Val Loss: 0.0298\n",
            "Epoch 18/30, Train Loss: 0.0186, Val Loss: 0.0297\n",
            "Epoch 19/30, Train Loss: 0.0185, Val Loss: 0.0299\n",
            "Epoch 20/30, Train Loss: 0.0185, Val Loss: 0.0300\n",
            "Epoch 21/30, Train Loss: 0.0183, Val Loss: 0.0301\n",
            "Epoch 22/30, Train Loss: 0.0183, Val Loss: 0.0300\n",
            "Epoch 23/30, Train Loss: 0.0182, Val Loss: 0.0301\n",
            "Epoch 24/30, Train Loss: 0.0184, Val Loss: 0.0299\n",
            "Epoch 25/30, Train Loss: 0.0186, Val Loss: 0.0299\n",
            "Epoch 26/30, Train Loss: 0.0181, Val Loss: 0.0301\n",
            "Epoch 27/30, Train Loss: 0.0181, Val Loss: 0.0304\n",
            "Epoch 28/30, Train Loss: 0.0181, Val Loss: 0.0305\n",
            "Epoch 29/30, Train Loss: 0.0181, Val Loss: 0.0305\n",
            "Epoch 30/30, Train Loss: 0.0180, Val Loss: 0.0306\n",
            "\n",
            "El mejor modelo se obtuvo en la época 15 con una pérdida de validación de 0.0296.\n"
          ]
        },
        {
          "output_type": "display_data",
          "data": {
            "text/plain": [
              "<Figure size 1000x600 with 1 Axes>"
            ],
            "image/png": "[encoded data removed]"
          },
          "metadata": {}
        }
      ],
      "source": [
        "# Hiperparámetros\n",
        "epochs = 30\n",
        "learning_rate = 0.001\n",
        "device = torch.device(\"cuda\" if torch.cuda.is_available() else \"cpu\")\n",
        "\n",
        "# Entrenar el modelo\n",
        "# Entrenar el modelo\n",
        "results = train_gru_model(\n",
        "    model, train_loader, val_loader, epochs=epochs, learning_rate=learning_rate, device=device\n",
        ")\n",
        "\n",
        "# Extraer los datos del entrenamiento\n",
        "train_losses = results[\"train_losses\"]\n",
        "val_losses = results[\"val_losses\"]\n",
        "best_epoch = results[\"best_epoch\"]\n",
        "nodel = results[\"best_model\"]\n",
        "\n",
        "# Graficar las pérdidas\n",
        "plt.figure(figsize=(10, 6))\n",
        "plt.plot(train_losses, label=\"Pérdida de Entrenamiento\")\n",
        "plt.plot(val_losses, label=\"Pérdida de Validación\")\n",
        "plt.axvline(best_epoch - 1, color=\"red\", linestyle=\"--\", label=\"Mejor Época\")\n",
        "plt.xlabel(\"Épocas\")\n",
        "plt.ylabel(\"Pérdida\")\n",
        "plt.title(\"Pérdidas de Entrenamiento y Validación\")\n",
        "plt.legend()\n",
        "plt.show()"
      ]
    },
    {
      "cell_type": "code",
      "execution_count": 13,
      "metadata": {
        "colab": {
          "base_uri": "https://localhost:8080/"
        },
        "id": "_mqmhAuEpq74",
        "outputId": "d555e9c8-6c0c-46b6-fe72-d83f87ed9be8"
      },
      "outputs": [
        {
          "output_type": "stream",
          "name": "stdout",
          "text": [
            "Resultados en Validación:\n",
            "  - MAE: 23.6133\n",
            "  - RMSE: 34.3154\n",
            "  - Loss: 0.0296\n",
            "Resultados en Prueba:\n",
            "  - MAE: 22.7424\n",
            "  - RMSE: 33.2972\n",
            "  - Loss: 0.0278\n"
          ]
        }
      ],
      "source": [
        "# Evaluar en validación\n",
        "val_metrics = evaluate_model(\n",
        "    model, val_loader, scaler, [0, 1], device, dataset_name=\"Validación\"\n",
        ")\n",
        "\n",
        "# Evaluar en prueba\n",
        "test_metrics = evaluate_model(\n",
        "    model, test_loader, scaler, [0, 1], device, dataset_name=\"Prueba\"\n",
        ")"
      ]
    },
    {
      "cell_type": "code",
      "execution_count": 14,
      "metadata": {
        "id": "IOFdgFMBp5yl"
      },
      "outputs": [],
      "source": [
        "save_path = \"./models/gru_model_x_y_t.pth\""
      ]
    },
    {
      "cell_type": "code",
      "execution_count": 15,
      "metadata": {
        "id": "KLrtQBINp94G"
      },
      "outputs": [],
      "source": [
        "torch.save(model.state_dict(),save_path)"
      ]
    },
    {
      "cell_type": "code",
      "execution_count": 16,
      "metadata": {
        "colab": {
          "base_uri": "https://localhost:8080/"
        },
        "id": "4ytEx3wHqCh3",
        "outputId": "487dc7ae-2367-4e9a-f2a0-29f7311394cb"
      },
      "outputs": [
        {
          "output_type": "stream",
          "name": "stderr",
          "text": [
            "<ipython-input-16-ed547ae5db2b>:1: FutureWarning: You are using `torch.load` with `weights_only=False` (the current default value), which uses the default pickle module implicitly. It is possible to construct malicious pickle data which will execute arbitrary code during unpickling (See https://github.com/pytorch/pytorch/blob/main/SECURITY.md#untrusted-models for more details). In a future release, the default value for `weights_only` will be flipped to `True`. This limits the functions that could be executed during unpickling. Arbitrary objects will no longer be allowed to be loaded via this mode unless they are explicitly allowlisted by the user via `torch.serialization.add_safe_globals`. We recommend you start setting `weights_only=True` for any use case where you don't have full control of the loaded file. Please open an issue on GitHub for any issues related to this experimental feature.\n",
            "  model.load_state_dict(torch.load(save_path))\n"
          ]
        },
        {
          "output_type": "execute_result",
          "data": {
            "text/plain": [
              "<All keys matched successfully>"
            ]
          },
          "metadata": {},
          "execution_count": 16
        }
      ],
      "source": [
        "model.load_state_dict(torch.load(save_path))"
      ]
    },
    {
      "cell_type": "code",
      "execution_count": 17,
      "metadata": {
        "colab": {
          "base_uri": "https://localhost:8080/"
        },
        "id": "SspY_0P8puTU",
        "outputId": "d3a1127a-45bd-4aac-9f03-2ea4ad38886b"
      },
      "outputs": [
        {
          "output_type": "stream",
          "name": "stdout",
          "text": [
            "Métricas para GRU_Model con ['x', 'y', 't'] :\n",
            "LPPMetric score: 1.2345679012345678\n",
            "MAEMetric score: 33.45532280796783\n",
            "DTWMetric score: 315.76513122326975\n",
            "GeoBLEUMetric score: 0.0012770605122526869\n"
          ]
        }
      ],
      "source": [
        "# Instancias de métricas\n",
        "metrics_instances = [\n",
        "    LPPMetric(),\n",
        "    MAEMetric(),\n",
        "    DTWMetric(),\n",
        "    GeoBLEUMetric(),\n",
        "]\n",
        "\n",
        "# Evaluar las métricas a partir del día 60\n",
        "generated_sequences, reference_sequences = evaluate_metrics_sequence(\n",
        "    test_data,\n",
        "    model,\n",
        "    scaler,\n",
        "    columns=COLUMNS,\n",
        "    device=device,\n",
        ")\n",
        "\n",
        "# Calcular métricas\n",
        "results = {}\n",
        "for metric in metrics_instances:\n",
        "    metric_name = type(metric).__name__\n",
        "    results[metric_name] = metric.calculate([generated_sequences], [reference_sequences])\n",
        "\n",
        "# Mostrar resultados\n",
        "print(f\"Métricas para {type(model).__name__} con {COLUMNS} :\")\n",
        "for metric_name, score in results.items():\n",
        "    print(f\"{metric_name} score: {score}\")"
      ]
    },
    {
      "cell_type": "code",
      "execution_count": 19,
      "metadata": {
        "id": "5raF-W8Jt0kU"
      },
      "outputs": [],
      "source": [
        "del generated_sequences , reference_sequences\n",
        "del train_data, val_data, test_data  # Liberar memoria\n",
        "del train_sequences, val_sequences, test_sequences  # Liberar memoria\n",
        "del train_dataset, val_dataset, test_dataset  # Liberar memoria\n",
        "del train_loader, val_loader, test_loader  # Liberar memoria"
      ]
    },
    {
      "cell_type": "code",
      "execution_count": 20,
      "metadata": {
        "id": "YwpojNGHnolZ"
      },
      "outputs": [],
      "source": [
        "def add_feature(df: pd.DataFrame, feature: str, function):\n",
        "    \"\"\"\n",
        "    Agrega una característica al DataFrame.\n",
        "\n",
        "    Args:\n",
        "        df (pd.DataFrame): DataFrame original.\n",
        "        feature (str): Nombre de la característica a agregar.\n",
        "        function: Función para calcular la característica.\n",
        "\n",
        "    Returns:\n",
        "        pd.DataFrame: DataFrame con la nueva característica.\n",
        "    \"\"\"\n",
        "    df = df.copy()\n",
        "    df[feature] = function(df)\n",
        "    return df\n",
        "\n",
        "\n",
        "def add_day_of_week(df: pd.DataFrame) -> pd.Series:\n",
        "    \"\"\"\n",
        "    Calcula el día de la semana a partir de la columna 'd'.\n",
        "\n",
        "    Args:\n",
        "        df (pd.DataFrame): DataFrame con la columna 'd'.\n",
        "\n",
        "    Returns:\n",
        "        pd.Series: Día de la semana correspondiente a cada día.\n",
        "    \"\"\"\n",
        "    return df[\"d\"] % 7"
      ]
    },
    {
      "cell_type": "code",
      "execution_count": 21,
      "metadata": {
        "id": "_tyET4nJmAzt"
      },
      "outputs": [],
      "source": [
        "df_day_of_week = add_feature(df_fill, \"day_of_week\", add_day_of_week)\n",
        "\n",
        "COLUMNS = [\"x\", \"y\", \"t\", \"day_of_week\"]\n",
        "\n",
        "# Dividir los datos\n",
        "train_data, val_data, test_data = split_data(df_day_of_week)\n",
        "\n",
        "# Ajustar el scaler a los datos de entrenamiento\n",
        "scaler = get_scaler(train_data, COLUMNS)\n",
        "\n",
        "# Normalizar los datos solamnete con l scaler del train\n",
        "train_data = normalize_dataset(train_data, scaler, COLUMNS)\n",
        "val_data = normalize_dataset(val_data, scaler, COLUMNS)\n",
        "test_data = normalize_dataset(test_data, scaler, COLUMNS)\n",
        "\n",
        "# Crear las secuencias para cada conjunto\n",
        "train_sequences = create_sequences(train_data, COLUMNS)\n",
        "val_sequences = create_sequences(val_data, COLUMNS)\n",
        "test_sequences = create_sequences(test_data, COLUMNS)\n",
        "\n",
        "# Crear datasets\n",
        "train_dataset = GRU_Dataset(train_sequences)\n",
        "val_dataset = GRU_Dataset(val_sequences)\n",
        "test_dataset = GRU_Dataset(test_sequences)\n",
        "\n",
        "# Crear DataLoaders\n",
        "train_loader = DataLoader(train_dataset, batch_size=32, shuffle=False)\n",
        "val_loader = DataLoader(val_dataset, batch_size=32, shuffle=False)\n",
        "test_loader = DataLoader(test_dataset, batch_size=32, shuffle=False)"
      ]
    },
    {
      "cell_type": "code",
      "execution_count": 22,
      "metadata": {
        "id": "o9CJXPkzmEOA"
      },
      "outputs": [],
      "source": [
        "# Hiperparámetros\n",
        "input_size = 4  # Número de características de entrada: x, y, t\n",
        "hidden_size = 256  # Tamaño del estado oculto de la GRU\n",
        "output_size = 2  # Predicción de x, y\n",
        "num_layers = 5  # Capas GRU\n",
        "dropout = 0.2  # Dropout para regularización\n",
        "\n",
        "\n",
        "model = GRU_Model(input_size, hidden_size, output_size, num_layers, dropout)\n",
        "device = torch.device(\"cuda\" if torch.cuda.is_available() else \"cpu\")"
      ]
    },
    {
      "cell_type": "code",
      "execution_count": 23,
      "metadata": {
        "colab": {
          "base_uri": "https://localhost:8080/",
          "height": 1000
        },
        "id": "T8iqxoLimKps",
        "outputId": "19da66dc-1b28-4d50-ac71-f611fc7e6aa3"
      },
      "outputs": [
        {
          "output_type": "stream",
          "name": "stdout",
          "text": [
            "Epoch 1/30, Train Loss: 0.0323, Val Loss: 0.0332\n",
            "Epoch 2/30, Train Loss: 0.0244, Val Loss: 0.0333\n",
            "Epoch 3/30, Train Loss: 0.0225, Val Loss: 0.0322\n",
            "Epoch 4/30, Train Loss: 0.0216, Val Loss: 0.0316\n",
            "Epoch 5/30, Train Loss: 0.0208, Val Loss: 0.0313\n",
            "Epoch 6/30, Train Loss: 0.0205, Val Loss: 0.0312\n",
            "Epoch 7/30, Train Loss: 0.0203, Val Loss: 0.0305\n",
            "Epoch 8/30, Train Loss: 0.0198, Val Loss: 0.0305\n",
            "Epoch 9/30, Train Loss: 0.0196, Val Loss: 0.0305\n",
            "Epoch 10/30, Train Loss: 0.0195, Val Loss: 0.0304\n",
            "Epoch 11/30, Train Loss: 0.0195, Val Loss: 0.0305\n",
            "Epoch 12/30, Train Loss: 0.0194, Val Loss: 0.0304\n",
            "Epoch 13/30, Train Loss: 0.0193, Val Loss: 0.0304\n",
            "Epoch 14/30, Train Loss: 0.0193, Val Loss: 0.0303\n",
            "Epoch 15/30, Train Loss: 0.0193, Val Loss: 0.0303\n",
            "Epoch 16/30, Train Loss: 0.0192, Val Loss: 0.0302\n",
            "Epoch 17/30, Train Loss: 0.0192, Val Loss: 0.0304\n",
            "Epoch 18/30, Train Loss: 0.0192, Val Loss: 0.0304\n",
            "Epoch 19/30, Train Loss: 0.0192, Val Loss: 0.0303\n",
            "Epoch 20/30, Train Loss: 0.0191, Val Loss: 0.0304\n",
            "Epoch 21/30, Train Loss: 0.0191, Val Loss: 0.0304\n",
            "Epoch 22/30, Train Loss: 0.0191, Val Loss: 0.0305\n",
            "Epoch 23/30, Train Loss: 0.0191, Val Loss: 0.0305\n",
            "Epoch 24/30, Train Loss: 0.0191, Val Loss: 0.0306\n",
            "Epoch 25/30, Train Loss: 0.0191, Val Loss: 0.0308\n",
            "Epoch 26/30, Train Loss: 0.0190, Val Loss: 0.0307\n",
            "Epoch 27/30, Train Loss: 0.0190, Val Loss: 0.0307\n",
            "Epoch 28/30, Train Loss: 0.0190, Val Loss: 0.0309\n",
            "Epoch 29/30, Train Loss: 0.0190, Val Loss: 0.0307\n",
            "Epoch 30/30, Train Loss: 0.0190, Val Loss: 0.0307\n",
            "\n",
            "El mejor modelo se obtuvo en la época 16 con una pérdida de validación de 0.0302.\n"
          ]
        },
        {
          "output_type": "display_data",
          "data": {
            "text/plain": [
              "<Figure size 1000x600 with 1 Axes>"
            ],
            "image/png": "[encoded data removed]"
          },
          "metadata": {}
        }
      ],
      "source": [
        "# Hiperparámetros\n",
        "epochs = 30\n",
        "learning_rate = 0.001\n",
        "\n",
        "\n",
        "# Entrenar el modelo\n",
        "# Entrenar el modelo\n",
        "results = train_gru_model(\n",
        "    model, train_loader, val_loader, epochs=epochs, learning_rate=learning_rate, device=device\n",
        ")\n",
        "\n",
        "# Extraer los datos del entrenamiento\n",
        "train_losses = results[\"train_losses\"]\n",
        "val_losses = results[\"val_losses\"]\n",
        "best_epoch = results[\"best_epoch\"]\n",
        "nodel = results[\"best_model\"]\n",
        "\n",
        "# Graficar las pérdidas\n",
        "plt.figure(figsize=(10, 6))\n",
        "plt.plot(train_losses, label=\"Pérdida de Entrenamiento\")\n",
        "plt.plot(val_losses, label=\"Pérdida de Validación\")\n",
        "plt.axvline(best_epoch - 1, color=\"red\", linestyle=\"--\", label=\"Mejor Época\")\n",
        "plt.xlabel(\"Épocas\")\n",
        "plt.ylabel(\"Pérdida\")\n",
        "plt.title(\"Pérdidas de Entrenamiento y Validación\")\n",
        "plt.legend()\n",
        "plt.show()"
      ]
    },
    {
      "cell_type": "code",
      "execution_count": 24,
      "metadata": {
        "colab": {
          "base_uri": "https://localhost:8080/"
        },
        "id": "64jEyjhCmP_P",
        "outputId": "99afa34e-61b4-4f52-eb2c-3346f3e8373d"
      },
      "outputs": [
        {
          "output_type": "stream",
          "name": "stdout",
          "text": [
            "Resultados en Validación:\n",
            "  - MAE: 23.9581\n",
            "  - RMSE: 34.6899\n",
            "  - Loss: 0.0302\n",
            "Resultados en Prueba:\n",
            "  - MAE: 23.5286\n",
            "  - RMSE: 34.1299\n",
            "  - Loss: 0.0293\n"
          ]
        }
      ],
      "source": [
        "# Evaluar en validación\n",
        "val_metrics = evaluate_model(\n",
        "    model, val_loader, scaler, [0, 1], device, dataset_name=\"Validación\"\n",
        ")\n",
        "\n",
        "# Evaluar en prueba\n",
        "test_metrics = evaluate_model(\n",
        "    model, test_loader, scaler, [0, 1], device, dataset_name=\"Prueba\"\n",
        ")"
      ]
    },
    {
      "cell_type": "code",
      "execution_count": 25,
      "metadata": {
        "id": "jRaUqj-WnGTV"
      },
      "outputs": [],
      "source": [
        "save_path = \"./models/gru_model_x_y_t_day_of_week.pth\""
      ]
    },
    {
      "cell_type": "code",
      "execution_count": 28,
      "metadata": {
        "id": "SCO1mNOWsqDf"
      },
      "outputs": [],
      "source": [
        "torch.save(model.state_dict(),save_path)"
      ]
    },
    {
      "cell_type": "code",
      "execution_count": 29,
      "metadata": {
        "colab": {
          "base_uri": "https://localhost:8080/"
        },
        "id": "9dconU0GnB14",
        "outputId": "27367fb7-dbeb-42c2-bdfe-a5b8d730e78d"
      },
      "outputs": [
        {
          "output_type": "stream",
          "name": "stderr",
          "text": [
            "<ipython-input-29-ed547ae5db2b>:1: FutureWarning: You are using `torch.load` with `weights_only=False` (the current default value), which uses the default pickle module implicitly. It is possible to construct malicious pickle data which will execute arbitrary code during unpickling (See https://github.com/pytorch/pytorch/blob/main/SECURITY.md#untrusted-models for more details). In a future release, the default value for `weights_only` will be flipped to `True`. This limits the functions that could be executed during unpickling. Arbitrary objects will no longer be allowed to be loaded via this mode unless they are explicitly allowlisted by the user via `torch.serialization.add_safe_globals`. We recommend you start setting `weights_only=True` for any use case where you don't have full control of the loaded file. Please open an issue on GitHub for any issues related to this experimental feature.\n",
            "  model.load_state_dict(torch.load(save_path))\n"
          ]
        },
        {
          "output_type": "execute_result",
          "data": {
            "text/plain": [
              "<All keys matched successfully>"
            ]
          },
          "metadata": {},
          "execution_count": 29
        }
      ],
      "source": [
        "model.load_state_dict(torch.load(save_path))"
      ]
    },
    {
      "cell_type": "code",
      "execution_count": 30,
      "metadata": {
        "colab": {
          "base_uri": "https://localhost:8080/"
        },
        "id": "zyNtgmp48dtc",
        "outputId": "2b80bd62-d3ad-4f9b-ddd5-eee14368e9cf"
      },
      "outputs": [
        {
          "output_type": "stream",
          "name": "stdout",
          "text": [
            "Métricas para GRU_Model con ['x', 'y', 't', 'day_of_week'] :\n",
            "LPPMetric score: 1.2345679012345678\n",
            "MAEMetric score: 35.44112188612421\n",
            "DTWMetric score: 332.1240944421785\n",
            "GeoBLEUMetric score: 0.0006303671366193958\n"
          ]
        }
      ],
      "source": [
        "# Instancias de métricas\n",
        "metrics_instances = [\n",
        "    LPPMetric(),\n",
        "    MAEMetric(),\n",
        "    DTWMetric(),\n",
        "    GeoBLEUMetric(),\n",
        "]\n",
        "\n",
        "# Evaluar las métricas a partir del día 60\n",
        "generated_sequences, reference_sequences = evaluate_metrics_sequence(\n",
        "    test_data,\n",
        "    model,\n",
        "    scaler,\n",
        "    columns=COLUMNS,\n",
        "    device=device,\n",
        ")\n",
        "\n",
        "# Calcular métricas\n",
        "results = {}\n",
        "for metric in metrics_instances:\n",
        "    metric_name = type(metric).__name__\n",
        "    results[metric_name] = metric.calculate([generated_sequences], [reference_sequences])\n",
        "\n",
        "# Mostrar resultados\n",
        "print(f\"Métricas para {type(model).__name__} con {COLUMNS} :\")\n",
        "for metric_name, score in results.items():\n",
        "    print(f\"{metric_name} score: {score}\")"
      ]
    },
    {
      "cell_type": "code",
      "source": [
        "del generated_sequences , reference_sequences\n",
        "del train_data, val_data, test_data  # Liberar memoria\n",
        "del train_sequences, val_sequences, test_sequences  # Liberar memoria\n",
        "del train_dataset, val_dataset, test_dataset  # Liberar memoria\n",
        "del train_loader, val_loader, test_loader  # Liberar memoria"
      ],
      "metadata": {
        "id": "CA1wqDrTlypb"
      },
      "execution_count": 31,
      "outputs": []
    },
    {
      "cell_type": "code",
      "execution_count": 32,
      "metadata": {
        "id": "MGeF2v6mq8eu"
      },
      "outputs": [],
      "source": [
        "def fill_missing_data_with_features(\n",
        "    df: pd.DataFrame, additional_features: list = None\n",
        ") -> pd.DataFrame:\n",
        "    \"\"\"\n",
        "    Rellena los datos faltantes de usuario, día y timeslot, y maneja características adicionales.\n",
        "    Asigna -1 a los valores faltantes en las coordenadas (x, y) y en cualquier característica adicional.\n",
        "\n",
        "    Args:\n",
        "        df (pd.DataFrame): DataFrame original con columnas ['uid', 'd', 't', 'x', 'y'] y posibles características adicionales.\n",
        "        additional_features (list): Lista de características adicionales a incluir en el DataFrame.\n",
        "\n",
        "    Returns:\n",
        "        pd.DataFrame: DataFrame con datos completos (incluidos los faltantes).\n",
        "    \"\"\"\n",
        "    if additional_features is None:\n",
        "        additional_features = []\n",
        "\n",
        "    # Determinar los rangos de uid, días y timeslots\n",
        "    uids = df[\"uid\"].unique()\n",
        "    days = np.arange(df[\"d\"].min(), df[\"d\"].max() + 1)\n",
        "    timeslots = np.arange(48)  # 48 time slots por día\n",
        "\n",
        "    # Crear una base completa con todas las combinaciones de uid, día y timeslot\n",
        "    complete_index = pd.MultiIndex.from_product(\n",
        "        [uids, days, timeslots], names=[\"uid\", \"d\", \"t\"]\n",
        "    )\n",
        "    complete_df = pd.DataFrame(index=complete_index).reset_index()\n",
        "\n",
        "    # Combinar con los datos originales\n",
        "    df = pd.merge(complete_df, df, on=[\"uid\", \"d\", \"t\"], how=\"left\")\n",
        "\n",
        "    # Rellenar valores faltantes para las coordenadas\n",
        "    df[\"x\"] = df[\"x\"].fillna(-1)\n",
        "    df[\"y\"] = df[\"y\"].fillna(-1)\n",
        "\n",
        "    # Rellenar valores faltantes para las características adicionales\n",
        "    for feature in additional_features:\n",
        "        if feature not in df.columns:\n",
        "            # Si la característica no existe en el DataFrame, agregarla con -1\n",
        "            df[feature] = -1\n",
        "        else:\n",
        "            # Rellenar valores faltantes con -1\n",
        "            df[feature] = df[feature].fillna(-1)\n",
        "\n",
        "    return df"
      ]
    },
    {
      "cell_type": "code",
      "execution_count": 33,
      "metadata": {
        "id": "xIzoGrKxq_UF"
      },
      "outputs": [],
      "source": [
        "def add_delta_t(df: pd.DataFrame) -> pd.Series:\n",
        "    \"\"\"\n",
        "    Calcula el delta de timeslots entre observaciones consecutivas considerando días diferentes.\n",
        "\n",
        "    Args:\n",
        "        df (pd.DataFrame): DataFrame con columnas `d` (día) y `t` (timeslot dentro del día).\n",
        "\n",
        "    Returns:\n",
        "        pd.Series: Serie con los valores de delta_t (cantidad de timeslots sin ping entre observaciones).\n",
        "    \"\"\"\n",
        "    deltas = []\n",
        "    for i in range(len(df)):\n",
        "        if i == 0:  # Primer registro no tiene delta\n",
        "            deltas.append(0)\n",
        "        else:\n",
        "            # Calcular el delta considerando días\n",
        "            current_day, current_t = df.iloc[i][\"d\"], df.iloc[i][\"t\"]\n",
        "            prev_day, prev_t = df.iloc[i - 1][\"d\"], df.iloc[i - 1][\"t\"]\n",
        "\n",
        "            if current_day == prev_day:\n",
        "                # Mismo día: diferencia simple de timeslots\n",
        "                delta = current_t - prev_t\n",
        "            else:\n",
        "                # Días diferentes: incluir los slots del día anterior y el siguiente\n",
        "                slots_from_prev_day = 48 - prev_t\n",
        "                slots_from_current_day = current_t\n",
        "                delta = (\n",
        "                    slots_from_prev_day\n",
        "                    + slots_from_current_day\n",
        "                    + (current_day - prev_day - 1) * 48\n",
        "                )\n",
        "\n",
        "            deltas.append(delta)\n",
        "\n",
        "    return pd.Series(deltas)\n",
        "\n",
        "\n",
        "df_delta = add_feature(df, \"delta_t\", add_delta_t)\n",
        "\n",
        "fill_data = fill_missing_data_with_features(df_delta, [\"delta_t\"])\n",
        "\n",
        "COLUMNS = [\"x\", \"y\", \"delta_t\"]\n",
        "\n",
        "# Dividir los datos\n",
        "train_data, val_data, test_data = split_data(fill_data)\n",
        "\n",
        "# Ajustar el scaler a los datos de entrenamiento\n",
        "scaler = get_scaler(train_data, COLUMNS)\n",
        "\n",
        "# Normalizar los datos solamnete con l scaler del train\n",
        "train_data = normalize_dataset(train_data, scaler, COLUMNS)\n",
        "val_data = normalize_dataset(val_data, scaler, COLUMNS)\n",
        "test_data = normalize_dataset(test_data, scaler, COLUMNS)\n",
        "\n",
        "# Crear las secuencias para cada conjunto\n",
        "train_sequences = create_sequences(train_data, COLUMNS)\n",
        "val_sequences = create_sequences(val_data, COLUMNS)\n",
        "test_sequences = create_sequences(test_data, COLUMNS)\n",
        "\n",
        "# Crear datasets\n",
        "train_dataset = GRU_Dataset(train_sequences)\n",
        "val_dataset = GRU_Dataset(val_sequences)\n",
        "test_dataset = GRU_Dataset(test_sequences)\n",
        "\n",
        "# Crear DataLoaders\n",
        "train_loader = DataLoader(train_dataset, batch_size=32, shuffle=False)\n",
        "val_loader = DataLoader(val_dataset, batch_size=32, shuffle=False)\n",
        "test_loader = DataLoader(test_dataset, batch_size=32, shuffle=False)"
      ]
    },
    {
      "cell_type": "code",
      "execution_count": 34,
      "metadata": {
        "id": "ZR7R4gOTrBzF"
      },
      "outputs": [],
      "source": [
        "# Hiperparámetros\n",
        "input_size = 3  # Número de características de entrada: x, y, t\n",
        "hidden_size = 128  # Tamaño del estado oculto de la GRU\n",
        "output_size = 2  # Predicción de x, y\n",
        "num_layers = 3  # Capas GRU\n",
        "dropout = 0.2  # Dropout para regularización\n",
        "\n",
        "\n",
        "model = GRU_Model(input_size, hidden_size, output_size, num_layers, dropout)\n",
        "device = torch.device(\"cuda\" if torch.cuda.is_available() else \"cpu\")"
      ]
    },
    {
      "cell_type": "code",
      "execution_count": 35,
      "metadata": {
        "id": "mth0pDT6rF3y",
        "colab": {
          "base_uri": "https://localhost:8080/",
          "height": 1000
        },
        "outputId": "78fdf677-e6b6-4c35-8829-d11763072f24"
      },
      "outputs": [
        {
          "output_type": "stream",
          "name": "stdout",
          "text": [
            "Epoch 1/30, Train Loss: 0.0284, Val Loss: 0.0338\n",
            "Epoch 2/30, Train Loss: 0.0229, Val Loss: 0.0330\n",
            "Epoch 3/30, Train Loss: 0.0221, Val Loss: 0.0321\n",
            "Epoch 4/30, Train Loss: 0.0212, Val Loss: 0.0308\n",
            "Epoch 5/30, Train Loss: 0.0203, Val Loss: 0.0306\n",
            "Epoch 6/30, Train Loss: 0.0200, Val Loss: 0.0305\n",
            "Epoch 7/30, Train Loss: 0.0198, Val Loss: 0.0303\n",
            "Epoch 8/30, Train Loss: 0.0196, Val Loss: 0.0303\n",
            "Epoch 9/30, Train Loss: 0.0195, Val Loss: 0.0300\n",
            "Epoch 10/30, Train Loss: 0.0194, Val Loss: 0.0298\n",
            "Epoch 11/30, Train Loss: 0.0193, Val Loss: 0.0299\n",
            "Epoch 12/30, Train Loss: 0.0192, Val Loss: 0.0298\n",
            "Epoch 13/30, Train Loss: 0.0190, Val Loss: 0.0299\n",
            "Epoch 14/30, Train Loss: 0.0190, Val Loss: 0.0299\n",
            "Epoch 15/30, Train Loss: 0.0189, Val Loss: 0.0300\n",
            "Epoch 16/30, Train Loss: 0.0187, Val Loss: 0.0301\n",
            "Epoch 17/30, Train Loss: 0.0191, Val Loss: 0.0300\n",
            "Epoch 18/30, Train Loss: 0.0199, Val Loss: 0.0300\n",
            "Epoch 19/30, Train Loss: 0.0199, Val Loss: 0.0301\n",
            "Epoch 20/30, Train Loss: 0.0199, Val Loss: 0.0300\n",
            "Epoch 21/30, Train Loss: 0.0199, Val Loss: 0.0300\n",
            "Epoch 22/30, Train Loss: 0.0199, Val Loss: 0.0300\n",
            "Epoch 23/30, Train Loss: 0.0198, Val Loss: 0.0299\n",
            "Epoch 24/30, Train Loss: 0.0195, Val Loss: 0.0297\n",
            "Epoch 25/30, Train Loss: 0.0190, Val Loss: 0.0297\n",
            "Epoch 26/30, Train Loss: 0.0186, Val Loss: 0.0299\n",
            "Epoch 27/30, Train Loss: 0.0185, Val Loss: 0.0302\n",
            "Epoch 28/30, Train Loss: 0.0187, Val Loss: 0.0299\n",
            "Epoch 29/30, Train Loss: 0.0185, Val Loss: 0.0304\n",
            "Epoch 30/30, Train Loss: 0.0184, Val Loss: 0.0302\n",
            "\n",
            "El mejor modelo se obtuvo en la época 25 con una pérdida de validación de 0.0297.\n"
          ]
        },
        {
          "output_type": "display_data",
          "data": {
            "text/plain": [
              "<Figure size 1000x600 with 1 Axes>"
            ],
            "image/png": "[encoded data removed]"
          },
          "metadata": {}
        }
      ],
      "source": [
        "# Hiperparámetros\n",
        "epochs = 30\n",
        "learning_rate = 0.001\n",
        "device = torch.device(\"cuda\" if torch.cuda.is_available() else \"cpu\")\n",
        "\n",
        "# Entrenar el modelo\n",
        "# Entrenar el modelo\n",
        "results = train_gru_model(\n",
        "    model, train_loader, val_loader, epochs=epochs, learning_rate=0.001, device=device\n",
        ")\n",
        "\n",
        "# Extraer los datos del entrenamiento\n",
        "train_losses = results[\"train_losses\"]\n",
        "val_losses = results[\"val_losses\"]\n",
        "best_epoch = results[\"best_epoch\"]\n",
        "model = results[\"best_model\"]\n",
        "\n",
        "# Graficar las pérdidas\n",
        "plt.figure(figsize=(10, 6))\n",
        "plt.plot(train_losses, label=\"Pérdida de Entrenamiento\")\n",
        "plt.plot(val_losses, label=\"Pérdida de Validación\")\n",
        "plt.axvline(best_epoch - 1, color=\"red\", linestyle=\"--\", label=\"Mejor Época\")\n",
        "plt.xlabel(\"Épocas\")\n",
        "plt.ylabel(\"Pérdida\")\n",
        "plt.title(\"Pérdidas de Entrenamiento y Validación\")\n",
        "plt.legend()\n",
        "plt.show()"
      ]
    },
    {
      "cell_type": "code",
      "execution_count": 36,
      "metadata": {
        "id": "vtCgE7LRrJb4",
        "colab": {
          "base_uri": "https://localhost:8080/"
        },
        "outputId": "52d79fb8-7aac-47b8-bfe0-918f8f7c199a"
      },
      "outputs": [
        {
          "output_type": "stream",
          "name": "stdout",
          "text": [
            "Resultados en Validación:\n",
            "  - MAE: 23.1769\n",
            "  - RMSE: 34.3430\n",
            "  - Loss: 0.0297\n",
            "Resultados en Prueba:\n",
            "  - MAE: 22.2273\n",
            "  - RMSE: 33.2438\n",
            "  - Loss: 0.0277\n"
          ]
        }
      ],
      "source": [
        "# Evaluar en validación\n",
        "val_metrics = evaluate_model(\n",
        "    model, val_loader, scaler, [0, 1], device, dataset_name=\"Validación\"\n",
        ")\n",
        "\n",
        "# Evaluar en prueba\n",
        "test_metrics = evaluate_model(\n",
        "    model, test_loader, scaler, [0, 1], device, dataset_name=\"Prueba\"\n",
        ")"
      ]
    },
    {
      "cell_type": "code",
      "execution_count": 37,
      "metadata": {
        "id": "i-xQJPt0rMkR"
      },
      "outputs": [],
      "source": [
        "save_path = \"./models/gru_model_x_y_delta_t.pth\""
      ]
    },
    {
      "cell_type": "code",
      "execution_count": 38,
      "metadata": {
        "id": "7NK1hAkxrUp4"
      },
      "outputs": [],
      "source": [
        "torch.save(model.state_dict(),save_path)"
      ]
    },
    {
      "cell_type": "code",
      "execution_count": 39,
      "metadata": {
        "id": "5EIkjcLXrXUm",
        "colab": {
          "base_uri": "https://localhost:8080/"
        },
        "outputId": "78823620-1eb7-4ab9-ec84-4070fc1d7143"
      },
      "outputs": [
        {
          "output_type": "stream",
          "name": "stderr",
          "text": [
            "<ipython-input-39-ed547ae5db2b>:1: FutureWarning: You are using `torch.load` with `weights_only=False` (the current default value), which uses the default pickle module implicitly. It is possible to construct malicious pickle data which will execute arbitrary code during unpickling (See https://github.com/pytorch/pytorch/blob/main/SECURITY.md#untrusted-models for more details). In a future release, the default value for `weights_only` will be flipped to `True`. This limits the functions that could be executed during unpickling. Arbitrary objects will no longer be allowed to be loaded via this mode unless they are explicitly allowlisted by the user via `torch.serialization.add_safe_globals`. We recommend you start setting `weights_only=True` for any use case where you don't have full control of the loaded file. Please open an issue on GitHub for any issues related to this experimental feature.\n",
            "  model.load_state_dict(torch.load(save_path))\n"
          ]
        },
        {
          "output_type": "execute_result",
          "data": {
            "text/plain": [
              "<All keys matched successfully>"
            ]
          },
          "metadata": {},
          "execution_count": 39
        }
      ],
      "source": [
        "model.load_state_dict(torch.load(save_path))"
      ]
    },
    {
      "cell_type": "code",
      "execution_count": 40,
      "metadata": {
        "id": "ooLpvjMyrkDT",
        "colab": {
          "base_uri": "https://localhost:8080/"
        },
        "outputId": "a7308fd5-1948-4fbe-cf43-b245fa4ab66b"
      },
      "outputs": [
        {
          "output_type": "stream",
          "name": "stdout",
          "text": [
            "Métricas para GRU_Model con ['x', 'y', 'delta_t'] :\n",
            "LPPMetric score: 0.6172839506172839\n",
            "MAEMetric score: 32.006208325007094\n",
            "DTWMetric score: 302.6173198541605\n",
            "GeoBLEUMetric score: 0.0001953880048236439\n"
          ]
        }
      ],
      "source": [
        "# Instancias de métricas\n",
        "metrics_instances = [\n",
        "    LPPMetric(),\n",
        "    MAEMetric(),\n",
        "    DTWMetric(),\n",
        "    GeoBLEUMetric(),\n",
        "]\n",
        "\n",
        "# Evaluar las métricas a partir del día 60\n",
        "generated_sequences, reference_sequences = evaluate_metrics_sequence(\n",
        "    test_data,\n",
        "    model,\n",
        "    scaler,\n",
        "    columns=COLUMNS,\n",
        "    device=device,\n",
        ")\n",
        "\n",
        "# Calcular métricas\n",
        "results = {}\n",
        "for metric in metrics_instances:\n",
        "    metric_name = type(metric).__name__\n",
        "    results[metric_name] = metric.calculate([generated_sequences], [reference_sequences])\n",
        "\n",
        "# Mostrar resultados\n",
        "print(f\"Métricas para {type(model).__name__} con {COLUMNS} :\")\n",
        "for metric_name, score in results.items():\n",
        "    print(f\"{metric_name} score: {score}\")"
      ]
    },
    {
      "cell_type": "code",
      "execution_count": 41,
      "metadata": {
        "id": "FaZ5OQAorrEc"
      },
      "outputs": [],
      "source": [
        "def add_delta_t(df: pd.DataFrame) -> pd.Series:\n",
        "    \"\"\"\n",
        "    Calcula el delta de timeslots entre observaciones consecutivas considerando días diferentes.\n",
        "\n",
        "    Args:\n",
        "        df (pd.DataFrame): DataFrame con columnas `d` (día) y `t` (timeslot dentro del día).\n",
        "\n",
        "    Returns:\n",
        "        pd.Series: Serie con los valores de delta_t (cantidad de timeslots sin ping entre observaciones).\n",
        "    \"\"\"\n",
        "    deltas = []\n",
        "    for i in range(len(df)):\n",
        "        if i == 0:  # Primer registro no tiene delta\n",
        "            deltas.append(0)\n",
        "        else:\n",
        "            # Calcular el delta considerando días\n",
        "            current_day, current_t = df.iloc[i][\"d\"], df.iloc[i][\"t\"]\n",
        "            prev_day, prev_t = df.iloc[i - 1][\"d\"], df.iloc[i - 1][\"t\"]\n",
        "\n",
        "            if current_day == prev_day:\n",
        "                # Mismo día: diferencia simple de timeslots\n",
        "                delta = current_t - prev_t\n",
        "            else:\n",
        "                # Días diferentes: incluir los slots del día anterior y el siguiente\n",
        "                slots_from_prev_day = 48 - prev_t\n",
        "                slots_from_current_day = current_t\n",
        "                delta = (\n",
        "                    slots_from_prev_day\n",
        "                    + slots_from_current_day\n",
        "                    + (current_day - prev_day - 1) * 48\n",
        "                )\n",
        "\n",
        "            deltas.append(delta)\n",
        "\n",
        "    return pd.Series(deltas)\n",
        "\n",
        "\n",
        "df_delta = add_feature(df, \"delta_t\", add_delta_t)\n",
        "\n",
        "fill_data = fill_missing_data_with_features(df_delta, [\"delta_t\"])\n",
        "\n",
        "df_day_of_week_delta_t = add_feature(fill_data, \"day_of_week\", add_day_of_week)\n",
        "\n",
        "COLUMNS = [\"x\", \"y\", \"delta_t\", \"day_of_week\"]\n",
        "\n",
        "# Dividir los datos\n",
        "train_data, val_data, test_data = split_data(df_day_of_week_delta_t)\n",
        "\n",
        "# Ajustar el scaler a los datos de entrenamiento\n",
        "scaler = get_scaler(train_data, COLUMNS)\n",
        "\n",
        "# Normalizar los datos solamnete con l scaler del train\n",
        "train_data = normalize_dataset(train_data, scaler, COLUMNS)\n",
        "val_data = normalize_dataset(val_data, scaler, COLUMNS)\n",
        "test_data = normalize_dataset(test_data, scaler, COLUMNS)\n",
        "\n",
        "# Crear las secuencias para cada conjunto\n",
        "train_sequences = create_sequences(train_data, COLUMNS)\n",
        "val_sequences = create_sequences(val_data, COLUMNS)\n",
        "test_sequences = create_sequences(test_data, COLUMNS)\n",
        "\n",
        "# Crear datasets\n",
        "train_dataset = GRU_Dataset(train_sequences)\n",
        "val_dataset = GRU_Dataset(val_sequences)\n",
        "test_dataset = GRU_Dataset(test_sequences)\n",
        "\n",
        "# Crear DataLoaders\n",
        "train_loader = DataLoader(train_dataset, batch_size=32, shuffle=False)\n",
        "val_loader = DataLoader(val_dataset, batch_size=32, shuffle=False)\n",
        "test_loader = DataLoader(test_dataset, batch_size=32, shuffle=False)"
      ]
    },
    {
      "cell_type": "code",
      "execution_count": 42,
      "metadata": {
        "id": "0n7S1WYZrtoK"
      },
      "outputs": [],
      "source": [
        "# Hiperparámetros\n",
        "input_size = 4  # Número de características de entrada: x, y, t\n",
        "hidden_size = 128  # Tamaño del estado oculto de la GRU\n",
        "output_size = 2  # Predicción de x, y\n",
        "num_layers = 3  # Capas GRU\n",
        "dropout = 0.2  # Dropout para regularización\n",
        "\n",
        "\n",
        "model = GRU_Model(input_size, hidden_size, output_size, num_layers, dropout)\n",
        "devivce = torch.device(\"cuda\" if torch.cuda.is_available() else \"cpu\")"
      ]
    },
    {
      "cell_type": "code",
      "execution_count": 43,
      "metadata": {
        "id": "s_u3eMvfrwIN",
        "colab": {
          "base_uri": "https://localhost:8080/",
          "height": 1000
        },
        "outputId": "974339ab-6452-4fc2-936e-8507b324bcfd"
      },
      "outputs": [
        {
          "output_type": "stream",
          "name": "stdout",
          "text": [
            "Epoch 1/30, Train Loss: 0.0280, Val Loss: 0.0345\n",
            "Epoch 2/30, Train Loss: 0.0226, Val Loss: 0.0331\n",
            "Epoch 3/30, Train Loss: 0.0219, Val Loss: 0.0326\n",
            "Epoch 4/30, Train Loss: 0.0209, Val Loss: 0.0310\n",
            "Epoch 5/30, Train Loss: 0.0200, Val Loss: 0.0309\n",
            "Epoch 6/30, Train Loss: 0.0197, Val Loss: 0.0309\n",
            "Epoch 7/30, Train Loss: 0.0195, Val Loss: 0.0304\n",
            "Epoch 8/30, Train Loss: 0.0194, Val Loss: 0.0305\n",
            "Epoch 9/30, Train Loss: 0.0193, Val Loss: 0.0306\n",
            "Epoch 10/30, Train Loss: 0.0192, Val Loss: 0.0306\n",
            "Epoch 11/30, Train Loss: 0.0191, Val Loss: 0.0305\n",
            "Epoch 12/30, Train Loss: 0.0189, Val Loss: 0.0303\n",
            "Epoch 13/30, Train Loss: 0.0189, Val Loss: 0.0308\n",
            "Epoch 14/30, Train Loss: 0.0188, Val Loss: 0.0308\n",
            "Epoch 15/30, Train Loss: 0.0187, Val Loss: 0.0312\n",
            "Epoch 16/30, Train Loss: 0.0187, Val Loss: 0.0311\n",
            "Epoch 17/30, Train Loss: 0.0185, Val Loss: 0.0317\n",
            "Epoch 18/30, Train Loss: 0.0184, Val Loss: 0.0311\n",
            "Epoch 19/30, Train Loss: 0.0184, Val Loss: 0.0316\n",
            "Epoch 20/30, Train Loss: 0.0183, Val Loss: 0.0311\n",
            "Epoch 21/30, Train Loss: 0.0184, Val Loss: 0.0314\n",
            "Epoch 22/30, Train Loss: 0.0182, Val Loss: 0.0318\n",
            "Epoch 23/30, Train Loss: 0.0182, Val Loss: 0.0320\n",
            "Epoch 24/30, Train Loss: 0.0181, Val Loss: 0.0322\n",
            "Epoch 25/30, Train Loss: 0.0180, Val Loss: 0.0322\n",
            "Epoch 26/30, Train Loss: 0.0180, Val Loss: 0.0319\n",
            "Epoch 27/30, Train Loss: 0.0180, Val Loss: 0.0322\n",
            "Epoch 28/30, Train Loss: 0.0179, Val Loss: 0.0324\n",
            "Epoch 29/30, Train Loss: 0.0179, Val Loss: 0.0325\n",
            "Epoch 30/30, Train Loss: 0.0177, Val Loss: 0.0321\n",
            "\n",
            "El mejor modelo se obtuvo en la época 12 con una pérdida de validación de 0.0303.\n"
          ]
        },
        {
          "output_type": "display_data",
          "data": {
            "text/plain": [
              "<Figure size 1000x600 with 1 Axes>"
            ],
            "image/png": "[encoded data removed]"
          },
          "metadata": {}
        }
      ],
      "source": [
        "# Hiperparámetros\n",
        "epochs = 30\n",
        "learning_rate = 0.001\n",
        "device = torch.device(\"cuda\" if torch.cuda.is_available() else \"cpu\")\n",
        "\n",
        "# Entrenar el modelo\n",
        "# Entrenar el modelo\n",
        "results = train_gru_model(\n",
        "    model, train_loader, val_loader, epochs=epochs, learning_rate=0.001, device=device\n",
        ")\n",
        "\n",
        "# Extraer los datos del entrenamiento\n",
        "train_losses = results[\"train_losses\"]\n",
        "val_losses = results[\"val_losses\"]\n",
        "best_epoch = results[\"best_epoch\"]\n",
        "model = results[\"best_model\"]\n",
        "\n",
        "# Graficar las pérdidas\n",
        "plt.figure(figsize=(10, 6))\n",
        "plt.plot(train_losses, label=\"Pérdida de Entrenamiento\")\n",
        "plt.plot(val_losses, label=\"Pérdida de Validación\")\n",
        "plt.axvline(best_epoch - 1, color=\"red\", linestyle=\"--\", label=\"Mejor Época\")\n",
        "plt.xlabel(\"Épocas\")\n",
        "plt.ylabel(\"Pérdida\")\n",
        "plt.title(\"Pérdidas de Entrenamiento y Validación\")\n",
        "plt.legend()\n",
        "plt.show()"
      ]
    },
    {
      "cell_type": "code",
      "execution_count": 44,
      "metadata": {
        "id": "OwFz-86Dr1e7",
        "colab": {
          "base_uri": "https://localhost:8080/"
        },
        "outputId": "fec0ced0-bcc5-4f69-9a74-009f557fdb35"
      },
      "outputs": [
        {
          "output_type": "stream",
          "name": "stdout",
          "text": [
            "Resultados en Validación:\n",
            "  - MAE: 24.2054\n",
            "  - RMSE: 34.7005\n",
            "  - Loss: 0.0303\n",
            "Resultados en Prueba:\n",
            "  - MAE: 23.8072\n",
            "  - RMSE: 34.1133\n",
            "  - Loss: 0.0292\n"
          ]
        }
      ],
      "source": [
        "# Evaluar en validación\n",
        "val_metrics = evaluate_model(\n",
        "    model, val_loader, scaler, [0, 1], device, dataset_name=\"Validación\"\n",
        ")\n",
        "\n",
        "# Evaluar en prueba\n",
        "test_metrics = evaluate_model(\n",
        "    model, test_loader, scaler, [0, 1], device, dataset_name=\"Prueba\"\n",
        ")"
      ]
    },
    {
      "cell_type": "code",
      "execution_count": 45,
      "metadata": {
        "id": "crNopMPYsCjF"
      },
      "outputs": [],
      "source": [
        "save_path = \"./models/gru_model_x_y_delta_t.pth_day_of_week\""
      ]
    },
    {
      "cell_type": "code",
      "execution_count": 46,
      "metadata": {
        "id": "YWAAUEuAsHKD"
      },
      "outputs": [],
      "source": [
        "torch.save(model.state_dict(),save_path)"
      ]
    },
    {
      "cell_type": "code",
      "execution_count": null,
      "metadata": {
        "id": "XaHiwUyvsJ0K"
      },
      "outputs": [],
      "source": [
        "model.load_state_dict(torch.load(save_path))"
      ]
    },
    {
      "cell_type": "code",
      "execution_count": 47,
      "metadata": {
        "id": "I3PDqmB-r4U2",
        "colab": {
          "base_uri": "https://localhost:8080/"
        },
        "outputId": "db0dd952-91b5-466e-a929-165afb89c75c"
      },
      "outputs": [
        {
          "output_type": "stream",
          "name": "stdout",
          "text": [
            "Métricas para GRU_Model con ['x', 'y', 'delta_t', 'day_of_week'] :\n",
            "LPPMetric score: 0.6172839506172839\n",
            "MAEMetric score: 32.9777042272374\n",
            "DTWMetric score: 314.22382320936987\n",
            "GeoBLEUMetric score: 0.0014311750447431125\n"
          ]
        }
      ],
      "source": [
        "# Instancias de métricas\n",
        "metrics_instances = [\n",
        "    LPPMetric(),\n",
        "    MAEMetric(),\n",
        "    DTWMetric(),\n",
        "    GeoBLEUMetric(),\n",
        "]\n",
        "\n",
        "# Evaluar las métricas a partir del día 60\n",
        "generated_sequences, reference_sequences = evaluate_metrics_sequence(\n",
        "    test_data,\n",
        "    model,\n",
        "    scaler,\n",
        "    columns=COLUMNS,\n",
        "    device=device,\n",
        ")\n",
        "\n",
        "# Calcular métricas\n",
        "results = {}\n",
        "for metric in metrics_instances:\n",
        "    metric_name = type(metric).__name__\n",
        "    results[metric_name] = metric.calculate([generated_sequences], [reference_sequences])\n",
        "\n",
        "# Mostrar resultados\n",
        "print(f\"Métricas para {type(model).__name__} con {COLUMNS} :\")\n",
        "for metric_name, score in results.items():\n",
        "    print(f\"{metric_name} score: {score}\")"
      ]
    }
  ],
  "metadata": {
    "accelerator": "GPU",
    "colab": {
      "gpuType": "T4",
      "machine_shape": "hm",
      "provenance": []
    },
    "kernelspec": {
      "display_name": "Python 3",
      "name": "python3"
    },
    "language_info": {
      "name": "python"
    }
  },
  "nbformat": 4,
  "nbformat_minor": 0
}